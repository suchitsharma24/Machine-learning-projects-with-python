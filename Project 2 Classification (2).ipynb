{
 "cells": [
  {
   "cell_type": "markdown",
   "metadata": {},
   "source": [
    "<h2 align=\"center\">Assignment 2 - Classification with MNIST KNN</h2>"
   ]
  },
  {
   "cell_type": "markdown",
   "metadata": {},
   "source": [
    "For this assignment you will implement several KNN classifiers on the MNIST data set. Create a Jupyter notebook that goes through each part of the assignment and presents evidence and analysis for your results. Submit your notebook file and a PDF of your notebook."
   ]
  },
  {
   "cell_type": "markdown",
   "metadata": {},
   "source": [
    "## Importing packages"
   ]
  },
  {
   "cell_type": "code",
   "execution_count": 1,
   "metadata": {},
   "outputs": [
    {
     "name": "stderr",
     "output_type": "stream",
     "text": [
      "Using TensorFlow backend.\n"
     ]
    }
   ],
   "source": [
    "%matplotlib inline\n",
    "import numpy as np\n",
    "import pandas as pd\n",
    "import seaborn as sns\n",
    "import matplotlib.pyplot as plt\n",
    "\n",
    "# Import timeit\n",
    "import timeit\n",
    "\n",
    "# Import warnings\n",
    "import warnings \n",
    "warnings.filterwarnings('ignore')\n",
    "\n",
    "# Import the package mnist from keras\n",
    "from keras.datasets import mnist\n",
    "\n",
    "from sklearn.model_selection import train_test_split\n",
    "from sklearn.neighbors import KNeighborsClassifier\n",
    "from sklearn.metrics import confusion_matrix \n",
    "from sklearn.model_selection import cross_val_score\n",
    "from sklearn.model_selection import LeaveOneOut\n",
    "from sklearn import metrics\n",
    "from sklearn import model_selection"
   ]
  },
  {
   "cell_type": "markdown",
   "metadata": {},
   "source": [
    "## About the MNIST Dataset"
   ]
  },
  {
   "cell_type": "markdown",
   "metadata": {},
   "source": [
    " MNIST is a whole bunch of images of handwritten digits that is considered to be one of the best dataset that used as a starter to learn about machine learning. These data do not require any further processing as they are already cleaned. \n",
    "The dataset consists of 60000 training images and 10000 testing images of handwritten digits for buliding our models. This  The MNIST dataset by default is available in keras package. Lets just download the data."
   ]
  },
  {
   "cell_type": "markdown",
   "metadata": {},
   "source": [
    "## Loading the data"
   ]
  },
  {
   "cell_type": "code",
   "execution_count": 2,
   "metadata": {},
   "outputs": [],
   "source": [
    "# Load pre-shuffled MNIST data into train and test sets\n",
    "(trainX, trainY), (testX, testY) = mnist.load_data()"
   ]
  },
  {
   "cell_type": "code",
   "execution_count": 3,
   "metadata": {},
   "outputs": [
    {
     "data": {
      "image/png": "[encoded data removed]",
      "text/plain": [
       "<Figure size 432x288 with 1 Axes>"
      ]
     },
     "metadata": {
      "needs_background": "light"
     },
     "output_type": "display_data"
    },
    {
     "data": {
      "image/png": "[encoded data removed]",
      "text/plain": [
       "<Figure size 432x288 with 1 Axes>"
      ]
     },
     "metadata": {
      "needs_background": "light"
     },
     "output_type": "display_data"
    },
    {
     "data": {
      "image/png": "[encoded data removed]",
      "text/plain": [
       "<Figure size 432x288 with 1 Axes>"
      ]
     },
     "metadata": {
      "needs_background": "light"
     },
     "output_type": "display_data"
    }
   ],
   "source": [
    "# Print the first three images in the training set\n",
    "for i in range(3):\n",
    "    plt.imshow(trainX[i])\n",
    "    plt.show()"
   ]
  },
  {
   "cell_type": "markdown",
   "metadata": {},
   "source": [
    "We have the number 5 as first image in the training set. We are sure that we have our data in tact.\n",
    "\n",
    "It is always helpful when you are working with computer vision problem to plot the data before doing any algorithm work. It's a quick sanity check that can prevent easily avoidable mistakes such as misinterpreting the data dimensions."
   ]
  },
  {
   "cell_type": "markdown",
   "metadata": {},
   "source": [
    "## Preprocessing"
   ]
  },
  {
   "cell_type": "markdown",
   "metadata": {},
   "source": [
    "Since that we have loaded the dataset lets have a look at the shape of the dataset that say how many images we have in our data."
   ]
  },
  {
   "cell_type": "code",
   "execution_count": 4,
   "metadata": {},
   "outputs": [
    {
     "name": "stdout",
     "output_type": "stream",
     "text": [
      "(60000, 28, 28)\n",
      "(10000, 28, 28)\n"
     ]
    }
   ],
   "source": [
    "# Shape of the Image feature/pixel value\n",
    "print(trainX.shape)\n",
    "print(testX.shape)"
   ]
  },
  {
   "cell_type": "markdown",
   "metadata": {},
   "source": [
    "So it's appear that there are 60,000 sample of images in the training set and 10000 images on the test set. Each and every images are of size 28*28 pixels.\n",
    "\n",
    "But we have a problem here. Having the images as array shape that representing the image pixel ie) (No of images, height, width) is not going to help us for the KNN alogithum feature representation. We need to reshape it in to the following format.\n",
    "\n",
    "(No of images, width * height)\n",
    "\n",
    "Lets do that."
   ]
  },
  {
   "cell_type": "code",
   "execution_count": 5,
   "metadata": {},
   "outputs": [],
   "source": [
    "# Reshaping the image feature\n",
    "X_train = trainX.reshape(trainX.shape[0], trainX.shape[1] * trainX.shape[1])\n",
    "X_test = testX.reshape(testX.shape[0], testX.shape[1] * testX.shape[1])"
   ]
  },
  {
   "cell_type": "code",
   "execution_count": 6,
   "metadata": {
    "scrolled": true
   },
   "outputs": [
    {
     "name": "stdout",
     "output_type": "stream",
     "text": [
      "(60000, 784)\n",
      "(10000, 784)\n"
     ]
    }
   ],
   "source": [
    "# Verifying the reshaping \n",
    "print(X_train.shape)\n",
    "print(X_test.shape)"
   ]
  },
  {
   "cell_type": "markdown",
   "metadata": {},
   "source": [
    "Thus we have reshaped the image properly. Just to be sure that we didn't loose any information while doing the reshaping. Let revert one of the image to old shape and try to print the image and see whether we are able to see it or not."
   ]
  },
  {
   "cell_type": "code",
   "execution_count": 7,
   "metadata": {
    "scrolled": false
   },
   "outputs": [
    {
     "data": {
      "image/png": "[encoded data removed]",
      "text/plain": [
       "<Figure size 432x288 with 1 Axes>"
      ]
     },
     "metadata": {
      "needs_background": "light"
     },
     "output_type": "display_data"
    },
    {
     "data": {
      "image/png": "[encoded data removed]",
      "text/plain": [
       "<Figure size 432x288 with 1 Axes>"
      ]
     },
     "metadata": {
      "needs_background": "light"
     },
     "output_type": "display_data"
    },
    {
     "data": {
      "image/png": "[encoded data removed]",
      "text/plain": [
       "<Figure size 432x288 with 1 Axes>"
      ]
     },
     "metadata": {
      "needs_background": "light"
     },
     "output_type": "display_data"
    }
   ],
   "source": [
    "# Plot the first image in the train set\n",
    "for i in range(3):\n",
    "    plt.imshow(X_train[i].reshape(28, 28))\n",
    "    plt.show()"
   ]
  },
  {
   "cell_type": "markdown",
   "metadata": {},
   "source": [
    "Thus it proves that we have converted our X feature vectors of train and test properely.\n",
    "\n",
    "Now that being done. Let us move our focus over to the labels for images which says what the number in the image is by checking the shape of the numpy array."
   ]
  },
  {
   "cell_type": "code",
   "execution_count": 8,
   "metadata": {},
   "outputs": [
    {
     "name": "stdout",
     "output_type": "stream",
     "text": [
      "(60000,)\n",
      "(10000,)\n"
     ]
    }
   ],
   "source": [
    "# Print the shape of the array that contains the image labels\n",
    "print(trainY.shape)\n",
    "print(testY.shape)"
   ]
  },
  {
   "cell_type": "markdown",
   "metadata": {},
   "source": [
    "We will reshape the label arrays to shape (length of labels, 1) in order to have ease access while doing computation in the KNN algorithm."
   ]
  },
  {
   "cell_type": "code",
   "execution_count": 9,
   "metadata": {},
   "outputs": [
    {
     "name": "stdout",
     "output_type": "stream",
     "text": [
      "(60000, 1)\n",
      "(10000, 1)\n"
     ]
    }
   ],
   "source": [
    "# Reshape the label array\n",
    "y_train = trainY.reshape(len(trainY), 1)\n",
    "y_test = testY.reshape(len(testY), 1)\n",
    "\n",
    "# Check the shape of reshaped label\n",
    "print(y_train.shape)\n",
    "print(y_test.shape)"
   ]
  },
  {
   "cell_type": "markdown",
   "metadata": {},
   "source": [
    "And here we are reshaped our label perfectly as required. In order to handle the code neat and to provide reusablity fo the code, I have coded everything in a object oriendted class object. "
   ]
  },
  {
   "cell_type": "markdown",
   "metadata": {},
   "source": [
    "## Question 1"
   ]
  },
  {
   "cell_type": "code",
   "execution_count": 10,
   "metadata": {},
   "outputs": [],
   "source": [
    "#reducing training data size to decrease computational time\n",
    "X_train =X_train[:1000]\n",
    "y_train = y_train[:1000]"
   ]
  },
  {
   "cell_type": "markdown",
   "metadata": {},
   "source": [
    "(10 pts) Implement a 1-nearest neighbor classifier that considers the image pixels to be one long feature vector. The vector will be 28*28 = 784-dimensions long (one feature for each pixel in the image). Do not do any scaling or normalization on the pixel values. Present the testing error for each digit in a table."
   ]
  },
  {
   "cell_type": "markdown",
   "metadata": {},
   "source": [
    "As we are allowed to use knn from sklearn, here I am using KNN classifier directly for 1 nearest neighbor."
   ]
  },
  {
   "cell_type": "code",
   "execution_count": 11,
   "metadata": {},
   "outputs": [
    {
     "data": {
      "text/plain": [
       "KNeighborsClassifier(algorithm='auto', leaf_size=30, metric='minkowski',\n",
       "                     metric_params=None, n_jobs=None, n_neighbors=1, p=2,\n",
       "                     weights='uniform')"
      ]
     },
     "execution_count": 11,
     "metadata": {},
     "output_type": "execute_result"
    }
   ],
   "source": [
    "# Nearest Neighbor object creation\n",
    "knn = KNeighborsClassifier(n_neighbors=1)\n",
    "# Fit the model\n",
    "knn.fit(X_train, y_train)"
   ]
  },
  {
   "cell_type": "markdown",
   "metadata": {},
   "source": [
    "### Predict on the test set\n",
    "\n",
    "As we have the class object and fitted our model. Lets try to predict the images in the testing set using predict() . We will try to record the time it took to predict the test set also."
   ]
  },
  {
   "cell_type": "code",
   "execution_count": 12,
   "metadata": {},
   "outputs": [
    {
     "name": "stdout",
     "output_type": "stream",
     "text": [
      "Query time: 13.4059 Seconds\n"
     ]
    }
   ],
   "source": [
    "# Store the starting time for query time computation\n",
    "start_time = timeit.default_timer()\n",
    "\n",
    "# Make prediction on the test set\n",
    "pred1 = knn.predict(X_test)\n",
    "\n",
    "# Print the Query time\n",
    "print(\"Query time:\", round(timeit.default_timer() - start_time, 4), \"Seconds\")"
   ]
  },
  {
   "cell_type": "markdown",
   "metadata": {},
   "source": [
    "This is query time after reducing data size. but query time for this function call to make the prediction was more than 10 minutes with 60000 training data. This is really long time. So, each and every query is going to take longer time. later I fixed it by reducing training data size \n",
    "\n",
    "### Accuracy and error rate\n",
    "\n",
    "Though we have predicted the test set. We need to know how good is the model by measuring some metrics. I am going to find the accuracy and error rate of the model to see how well it have performed."
   ]
  },
  {
   "cell_type": "code",
   "execution_count": 13,
   "metadata": {},
   "outputs": [
    {
     "name": "stdout",
     "output_type": "stream",
     "text": [
      "Accuracy of KNN classifiar on training set: 1.00\n",
      "Accuracy of KNN classifiar on test set: 0.87\n",
      "The error rate of the model is : 0.13\n"
     ]
    }
   ],
   "source": [
    "s1= knn.score(X_train,y_train)\n",
    "s2= knn.score(X_test,y_test)\n",
    "print('Accuracy of KNN classifiar on training set: {:.2f}'.format(s1))\n",
    "print('Accuracy of KNN classifiar on test set: {:.2f}'.format(s2))\n",
    "print('The error rate of the model is : {:.2f}'.format(1-s2))"
   ]
  },
  {
   "cell_type": "markdown",
   "metadata": {},
   "source": [
    "Accuracy of KNN classifiar on training set: 1.00\n",
    "Accuracy of KNN classifiar on test set: 0.87, and error rate of this model is 0.13.\n",
    "This calculation takes more than 30 min to get these results. woops, my computer is getting reallly hot. I know !\n",
    "\n"
   ]
  },
  {
   "cell_type": "markdown",
   "metadata": {},
   "source": [
    "### Confusion Matrix\n",
    "\n",
    "Confusion Matrix help us understand the model performance by provinding insights on how well the model performed on each digits, and where it is strugling to make the prediction."
   ]
  },
  {
   "cell_type": "code",
   "execution_count": 14,
   "metadata": {},
   "outputs": [
    {
     "data": {
      "image/png": "[encoded data removed]",
      "text/plain": [
       "<Figure size 864x576 with 2 Axes>"
      ]
     },
     "metadata": {
      "needs_background": "light"
     },
     "output_type": "display_data"
    }
   ],
   "source": [
    "# Create and show the Confusion matrix plot\n",
    "# make confusion matrix\n",
    "results = confusion_matrix(y_test, pred1)\n",
    "results\n",
    "#create DataFrame\n",
    "df_cm = pd.DataFrame(results, index = range(10),\n",
    "                  columns = range(10))\n",
    "plt.figure(figsize = (12,8))\n",
    "sns.heatmap(df_cm,annot=True, annot_kws={\"size\": 10}, fmt = \"d\", linewidths=.5,cmap = sns.cubehelix_palette(),)\n",
    "plt.title('Confuson_matrix',fontsize = 30)\n",
    "# Set X and Y labels and it font size\n",
    "plt.xlabel(\"Predicted\", fontsize = 25)\n",
    "plt.ylabel(\"Actual\", fontsize = 25)\n",
    "plt.show()"
   ]
  },
  {
   "cell_type": "markdown",
   "metadata": {},
   "source": [
    "From the confusion matrix, we can say that\n",
    "\n",
    "* The diagonal of the confusion matrix indicates our model is good enough to make correct prediction.\n",
    "* Digit 1 has more chances to be correctly predicted.\n",
    "* Our model has identified 4 as 9, so not so good in predicting 4.\n",
    "* In addition, we have 2 identified as 7,  7 idneitfied as 1 and 8 as 3 and 5.\n",
    "\n",
    "This makes sense as the model is confused in identifying similar shape digits."
   ]
  },
  {
   "cell_type": "markdown",
   "metadata": {},
   "source": [
    "### Testing error on each digit\n",
    "\n",
    "Now lets see the testing error on each digits and see whether there is something interesting out there for us."
   ]
  },
  {
   "cell_type": "code",
   "execution_count": 15,
   "metadata": {
    "scrolled": true
   },
   "outputs": [
    {
     "name": "stdout",
     "output_type": "stream",
     "text": [
      "              precision    recall  f1-score   support\n",
      "\n",
      "           0       0.92      0.96      0.94       980\n",
      "           1       0.90      0.99      0.94      1135\n",
      "           2       0.92      0.84      0.88      1032\n",
      "           3       0.89      0.83      0.86      1010\n",
      "           4       0.88      0.81      0.84       982\n",
      "           5       0.80      0.81      0.80       892\n",
      "           6       0.91      0.94      0.92       958\n",
      "           7       0.85      0.89      0.87      1028\n",
      "           8       0.91      0.73      0.81       974\n",
      "           9       0.74      0.88      0.80      1009\n",
      "\n",
      "    accuracy                           0.87     10000\n",
      "   macro avg       0.87      0.87      0.87     10000\n",
      "weighted avg       0.87      0.87      0.87     10000\n",
      "\n"
     ]
    }
   ],
   "source": [
    "from sklearn import metrics\n",
    "print(metrics.classification_report(y_test, pred1))"
   ]
  },
  {
   "cell_type": "code",
   "execution_count": 16,
   "metadata": {},
   "outputs": [
    {
     "data": {
      "text/html": [
       "<div>\n",
       "<style scoped>\n",
       "    .dataframe tbody tr th:only-of-type {\n",
       "        vertical-align: middle;\n",
       "    }\n",
       "\n",
       "    .dataframe tbody tr th {\n",
       "        vertical-align: top;\n",
       "    }\n",
       "\n",
       "    .dataframe thead th {\n",
       "        text-align: right;\n",
       "    }\n",
       "</style>\n",
       "<table border=\"1\" class=\"dataframe\">\n",
       "  <thead>\n",
       "    <tr style=\"text-align: right;\">\n",
       "      <th></th>\n",
       "      <th>Label</th>\n",
       "      <th>Error (%)</th>\n",
       "      <th>Accuracy (%)</th>\n",
       "    </tr>\n",
       "  </thead>\n",
       "  <tbody>\n",
       "    <tr>\n",
       "      <th>0</th>\n",
       "      <td>0</td>\n",
       "      <td>8</td>\n",
       "      <td>92</td>\n",
       "    </tr>\n",
       "    <tr>\n",
       "      <th>1</th>\n",
       "      <td>1</td>\n",
       "      <td>10</td>\n",
       "      <td>90</td>\n",
       "    </tr>\n",
       "    <tr>\n",
       "      <th>2</th>\n",
       "      <td>2</td>\n",
       "      <td>8</td>\n",
       "      <td>92</td>\n",
       "    </tr>\n",
       "    <tr>\n",
       "      <th>3</th>\n",
       "      <td>3</td>\n",
       "      <td>11</td>\n",
       "      <td>89</td>\n",
       "    </tr>\n",
       "    <tr>\n",
       "      <th>4</th>\n",
       "      <td>4</td>\n",
       "      <td>12</td>\n",
       "      <td>88</td>\n",
       "    </tr>\n",
       "    <tr>\n",
       "      <th>5</th>\n",
       "      <td>5</td>\n",
       "      <td>10</td>\n",
       "      <td>90</td>\n",
       "    </tr>\n",
       "    <tr>\n",
       "      <th>6</th>\n",
       "      <td>6</td>\n",
       "      <td>9</td>\n",
       "      <td>91</td>\n",
       "    </tr>\n",
       "    <tr>\n",
       "      <th>7</th>\n",
       "      <td>7</td>\n",
       "      <td>15</td>\n",
       "      <td>85</td>\n",
       "    </tr>\n",
       "    <tr>\n",
       "      <th>8</th>\n",
       "      <td>8</td>\n",
       "      <td>9</td>\n",
       "      <td>91</td>\n",
       "    </tr>\n",
       "    <tr>\n",
       "      <th>9</th>\n",
       "      <td>9</td>\n",
       "      <td>26</td>\n",
       "      <td>74</td>\n",
       "    </tr>\n",
       "  </tbody>\n",
       "</table>\n",
       "</div>"
      ],
      "text/plain": [
       "   Label  Error (%)  Accuracy (%)\n",
       "0      0          8            92\n",
       "1      1         10            90\n",
       "2      2          8            92\n",
       "3      3         11            89\n",
       "4      4         12            88\n",
       "5      5         10            90\n",
       "6      6          9            91\n",
       "7      7         15            85\n",
       "8      8          9            91\n",
       "9      9         26            74"
      ]
     },
     "execution_count": 16,
     "metadata": {},
     "output_type": "execute_result"
    }
   ],
   "source": [
    "Accuracy = [92, 90, 92 ,89, 88, 80, 91, 85, 91, 74]\n",
    "error_list = [8, 10, 8, 11, 12, 10, 9, 15, 9, 26]\n",
    "labels =[0,1,2,3,4,5,6,7,8,9]\n",
    "df = pd.DataFrame({\"Label\": labels, \"Error (%)\": error_list, \n",
    "                                  \"Accuracy (%)\": [(100 - error) for error in error_list]})\n",
    "df"
   ]
  },
  {
   "cell_type": "markdown",
   "metadata": {},
   "source": [
    "Accuracy of the model is low because of selecting only 1000 data out of 60000. I have run query time and classification with 60000 data. There, I got around 10 min query time and better classificatio report."
   ]
  },
  {
   "cell_type": "markdown",
   "metadata": {},
   "source": [
    "## Problem 2\n",
    "(10 pts) Implement a KNN leave-one-out approach and test values of K from 1 to 20. Plot the leave-one-out error vs. K. Present the testing error for best value of K for each digit in a table. (If you are running into time problems using all 60,000 data points for leave-one-out, feel free to randomly sample the training set to estimate the best K.)"
   ]
  },
  {
   "cell_type": "markdown",
   "metadata": {},
   "source": [
    "In MNIST data set training and test data already separated and applying leave-one out approach in this whole data set is creating computational problem. The method used to split data using one-leaveout is following. \n",
    "\n",
    "X = X_train\n",
    "y = y_train\n",
    "loo = LeaveOneOut()\n",
    "for train_index, test_index in loo.split(X):\n",
    "    X_train, X_test = X[train_index], X[test_index]\n",
    "    y_train, y_test = y[train_index], y[test_index]\n",
    "    \n",
    " Here, i am not splitting data further to save computauional time but I will find the best value of k using leave one out approach as follows:"
   ]
  },
  {
   "cell_type": "code",
   "execution_count": 17,
   "metadata": {
    "scrolled": true
   },
   "outputs": [
    {
     "data": {
      "image/png": "[encoded data removed]",
      "text/plain": [
       "<Figure size 432x288 with 1 Axes>"
      ]
     },
     "metadata": {
      "needs_background": "light"
     },
     "output_type": "display_data"
    },
    {
     "name": "stdout",
     "output_type": "stream",
     "text": [
      "k-score for k= 1 to 20 : [0.882, 0.866, 0.873, 0.872, 0.865, 0.87, 0.863, 0.863, 0.863, 0.857, 0.852, 0.85, 0.848, 0.838, 0.835, 0.829, 0.825, 0.829, 0.823, 0.828]\n"
     ]
    }
   ],
   "source": [
    "#implementing KNN leave-one-out approach and test values of K from 1 to 20\n",
    "k_range = range(1, 21)\n",
    "k_scores = []# use iteration to caclulator different k in models, then return the average accuracy \n",
    "#implementing KNN leave-one-out approach and test values of K from 1 to 20\n",
    "for k in k_range:\n",
    "    loocv = model_selection.LeaveOneOut()\n",
    "    knn = KNeighborsClassifier(n_neighbors=k)\n",
    "    scores = cross_val_score(knn,X_train,y_train, cv= loocv, scoring='accuracy') \n",
    "    k_scores.append(scores.mean())# plot to see clearly                         \n",
    "plt.figure()\n",
    "plt.plot(k_range, k_scores)\n",
    "plt.xlabel('Value of K for KNN')\n",
    "plt.ylabel('Cross-Validated Accuracy')\n",
    "plt.show()\n",
    "print('k-score for k= 1 to 20 :',k_scores)"
   ]
  },
  {
   "cell_type": "markdown",
   "metadata": {},
   "source": [
    "If I take even 10000 training data, the above step takes more than two hours. Then, I took just 1000 data from 60000 by doing X_train = Xtrain[:1000]. Actually performing one-leave-out approach is really difficult to perform if training data are more than 100.\n",
    "From above graph and k-score, the best knn is predicting well when knn =1. <strong>Before doing this I splitted data using leave one out approach with 60,000 training data and found the best value of k was 3. It took hours to get the results<strong> "
   ]
  },
  {
   "cell_type": "code",
   "execution_count": 18,
   "metadata": {},
   "outputs": [
    {
     "data": {
      "text/plain": [
       "KNeighborsClassifier(algorithm='auto', leaf_size=30, metric='minkowski',\n",
       "                     metric_params=None, n_jobs=None, n_neighbors=3, p=2,\n",
       "                     weights='uniform')"
      ]
     },
     "execution_count": 18,
     "metadata": {},
     "output_type": "execute_result"
    }
   ],
   "source": [
    "#fit the model\n",
    "knn = KNeighborsClassifier(n_neighbors=3)\n",
    "knn.fit(X_train, y_train)"
   ]
  },
  {
   "cell_type": "code",
   "execution_count": 19,
   "metadata": {},
   "outputs": [],
   "source": [
    "#make prediction using fitted model\n",
    "pred2 = knn.predict(X_test)"
   ]
  },
  {
   "cell_type": "code",
   "execution_count": 20,
   "metadata": {},
   "outputs": [
    {
     "name": "stdout",
     "output_type": "stream",
     "text": [
      "              precision    recall  f1-score   support\n",
      "\n",
      "           0       0.89      0.97      0.93       980\n",
      "           1       0.82      0.99      0.90      1135\n",
      "           2       0.90      0.82      0.86      1032\n",
      "           3       0.86      0.86      0.86      1010\n",
      "           4       0.85      0.81      0.83       982\n",
      "           5       0.84      0.78      0.81       892\n",
      "           6       0.92      0.93      0.93       958\n",
      "           7       0.88      0.89      0.88      1028\n",
      "           8       0.94      0.69      0.80       974\n",
      "           9       0.77      0.85      0.81      1009\n",
      "\n",
      "    accuracy                           0.86     10000\n",
      "   macro avg       0.87      0.86      0.86     10000\n",
      "weighted avg       0.87      0.86      0.86     10000\n",
      "\n"
     ]
    }
   ],
   "source": [
    "#print classification report on test data\n",
    "print(metrics.classification_report(y_test, pred2))"
   ]
  },
  {
   "cell_type": "code",
   "execution_count": 21,
   "metadata": {
    "scrolled": true
   },
   "outputs": [
    {
     "data": {
      "text/html": [
       "<div>\n",
       "<style scoped>\n",
       "    .dataframe tbody tr th:only-of-type {\n",
       "        vertical-align: middle;\n",
       "    }\n",
       "\n",
       "    .dataframe tbody tr th {\n",
       "        vertical-align: top;\n",
       "    }\n",
       "\n",
       "    .dataframe thead th {\n",
       "        text-align: right;\n",
       "    }\n",
       "</style>\n",
       "<table border=\"1\" class=\"dataframe\">\n",
       "  <thead>\n",
       "    <tr style=\"text-align: right;\">\n",
       "      <th></th>\n",
       "      <th>Label</th>\n",
       "      <th>Error (%)</th>\n",
       "      <th>Accuracy (%)</th>\n",
       "    </tr>\n",
       "  </thead>\n",
       "  <tbody>\n",
       "    <tr>\n",
       "      <th>0</th>\n",
       "      <td>0</td>\n",
       "      <td>11</td>\n",
       "      <td>89</td>\n",
       "    </tr>\n",
       "    <tr>\n",
       "      <th>1</th>\n",
       "      <td>1</td>\n",
       "      <td>18</td>\n",
       "      <td>82</td>\n",
       "    </tr>\n",
       "    <tr>\n",
       "      <th>2</th>\n",
       "      <td>2</td>\n",
       "      <td>10</td>\n",
       "      <td>90</td>\n",
       "    </tr>\n",
       "    <tr>\n",
       "      <th>3</th>\n",
       "      <td>3</td>\n",
       "      <td>14</td>\n",
       "      <td>86</td>\n",
       "    </tr>\n",
       "    <tr>\n",
       "      <th>4</th>\n",
       "      <td>4</td>\n",
       "      <td>15</td>\n",
       "      <td>85</td>\n",
       "    </tr>\n",
       "    <tr>\n",
       "      <th>5</th>\n",
       "      <td>5</td>\n",
       "      <td>16</td>\n",
       "      <td>84</td>\n",
       "    </tr>\n",
       "    <tr>\n",
       "      <th>6</th>\n",
       "      <td>6</td>\n",
       "      <td>8</td>\n",
       "      <td>92</td>\n",
       "    </tr>\n",
       "    <tr>\n",
       "      <th>7</th>\n",
       "      <td>7</td>\n",
       "      <td>12</td>\n",
       "      <td>88</td>\n",
       "    </tr>\n",
       "    <tr>\n",
       "      <th>8</th>\n",
       "      <td>8</td>\n",
       "      <td>6</td>\n",
       "      <td>94</td>\n",
       "    </tr>\n",
       "    <tr>\n",
       "      <th>9</th>\n",
       "      <td>9</td>\n",
       "      <td>33</td>\n",
       "      <td>67</td>\n",
       "    </tr>\n",
       "  </tbody>\n",
       "</table>\n",
       "</div>"
      ],
      "text/plain": [
       "   Label  Error (%)  Accuracy (%)\n",
       "0      0         11            89\n",
       "1      1         18            82\n",
       "2      2         10            90\n",
       "3      3         14            86\n",
       "4      4         15            85\n",
       "5      5         16            84\n",
       "6      6          8            92\n",
       "7      7         12            88\n",
       "8      8          6            94\n",
       "9      9         33            67"
      ]
     },
     "execution_count": 21,
     "metadata": {},
     "output_type": "execute_result"
    }
   ],
   "source": [
    "Accuracy = [89, 82, 90 ,86, 85, 84, 92, 88, 94, 77]\n",
    "error_list = [11, 18, 10, 14, 15, 16, 8, 12, 6, 33]\n",
    "labels =[0,1,2,3,4,5,6,7,8,9]\n",
    "df = pd.DataFrame({\"Label\": labels, \"Error (%)\": error_list, \n",
    "                                  \"Accuracy (%)\": [(100 - error) for error in error_list]})\n",
    "df"
   ]
  },
  {
   "cell_type": "code",
   "execution_count": 22,
   "metadata": {},
   "outputs": [
    {
     "data": {
      "image/png": "[encoded data removed]",
      "text/plain": [
       "<Figure size 864x576 with 2 Axes>"
      ]
     },
     "metadata": {
      "needs_background": "light"
     },
     "output_type": "display_data"
    }
   ],
   "source": [
    "# Create and show the Confusion matrix plot\n",
    "# make confusion matrix\n",
    "results = confusion_matrix(y_test, pred2)\n",
    "results\n",
    "#create DataFrame\n",
    "df_cm = pd.DataFrame(results, index = range(10),\n",
    "                  columns = range(10))\n",
    "plt.figure(figsize = (12,8))\n",
    "sns.heatmap(df_cm,annot=True, annot_kws={\"size\": 10}, fmt = \"d\", linewidths=.5,cmap = sns.cubehelix_palette(),)\n",
    "plt.title('Confuson_matrix',fontsize = 30)\n",
    "# Set X and Y labels and it font size\n",
    "plt.xlabel(\"Predicted\", fontsize = 25)\n",
    "plt.ylabel(\"Actual\", fontsize = 25)\n",
    "plt.show()"
   ]
  },
  {
   "cell_type": "markdown",
   "metadata": {},
   "source": [
    "From the confusion matrix, we can say that\n",
    "\n",
    "* The diagonal of the confusion matrix indicates our model is good enough to make correct prediction.\n",
    "* Digit 1 has more chances to be correctly predicted as before."
   ]
  },
  {
   "cell_type": "markdown",
   "metadata": {},
   "source": [
    "\n"
   ]
  },
  {
   "cell_type": "markdown",
   "metadata": {},
   "source": [
    "## Feature Transformation Class\n",
    "\n",
    "This class is a combination of varaible and functions that can be used to transform the feature using strides over the images and binning the each strides with summing, averaging, max , min pooliong over the images."
   ]
  },
  {
   "cell_type": "code",
   "execution_count": 23,
   "metadata": {},
   "outputs": [],
   "source": [
    "class FeatureTransformation:\n",
    "    \"\"\" Transforms the features \n",
    "    \n",
    "    Feature of the data is transformed by mainly taking the strides of n\n",
    "    and computing the summing, averaging, max pooling, min pooling of \n",
    "    the features. Basicaly it is the downsample of the whole data\n",
    "    \n",
    "    Arguments:\n",
    "        None\n",
    "    \"\"\"\n",
    "    \n",
    "    def __init__(self):\n",
    "        pass\n",
    "    \n",
    "    def strided_rescale(self, g, bin_fac, binning):\n",
    "        \"\"\" Rescale the data with strides and type of binning\n",
    "        \n",
    "        Takes the run over the image data using strides of n and \n",
    "        shrinks each strides depending on the binning method passed.\n",
    "        \n",
    "        Arguments:\n",
    "            g: Data of the image in the feature vectors\n",
    "            bin_fac: Represent the strides to consider(strides * strides)\n",
    "            binning: Type of binning to apply {sum, max, min, others will \n",
    "                compute average of strides}\n",
    "            \n",
    "        Returns:\n",
    "            Shrinked image of feature vector\n",
    "        \"\"\"\n",
    "        # Get the strides of the whole image\n",
    "        strided = np.lib.stride_tricks.as_strided(g,\n",
    "            shape=(g.shape[0]//bin_fac, g.shape[1]//bin_fac, bin_fac, bin_fac),\n",
    "            strides=((g.strides[0]*bin_fac, g.strides[1]*bin_fac)+g.strides))\n",
    "        # Check the binning method and compute thte stride accordingly\n",
    "        if binning is \"sum\":\n",
    "            return strided.sum(axis=-1).sum(axis=-1)\n",
    "        elif binning is \"max\":\n",
    "            return strided.max(axis=-1).max(axis=-1)\n",
    "        elif binning is \"min\":\n",
    "            return strided.min(axis=-1).max(axis=-1)\n",
    "        else:\n",
    "            return strided.mean(axis=-1).mean(axis=-1)\n",
    "    \n",
    "    def down_sample(self, data, n, binning = None):\n",
    "        \"\"\" Downsample the data by n\n",
    "        \n",
    "        Computes the nthe feature downsample or downsamples by using \n",
    "        techniques such as summing, binning, max pooling, min pooling \n",
    "        and average\n",
    "        \n",
    "        Arguments:\n",
    "            data: Data of the image in the feature vectors\n",
    "            n: Represent the strides to consider(strides * strides)\n",
    "            binning: Type of binning to apply\n",
    "            \n",
    "        Returns:\n",
    "            Downsampled/Shrinked image of feature vector\n",
    "        \"\"\"\n",
    "        # Check for binning downsample the image if the binning is none\n",
    "        # else do smart downsampling by passing it to the strides()\n",
    "        if binning is None:\n",
    "            # get the index\n",
    "            index = [i-1 for i in np.arange(n, data.shape[1] + 1, n)]\n",
    "            # Downsample the image\n",
    "            down_sampled = np.array([data[:, i] for i in index])\n",
    "            return down_sampled.T\n",
    "        else:\n",
    "            # Get the new image side\n",
    "            new_side = int(data.shape[1] / n)\n",
    "            # Intiualize the strides for storing the results\n",
    "            strided = np.zeros((data.shape[0], new_side, new_side))\n",
    "            # Compute the strides and store the values\n",
    "            for i in range(data.shape[0]):\n",
    "                strided[i] = self.strided_rescale(data[i], n, binning)\n",
    "            return strided"
   ]
  },
  {
   "cell_type": "markdown",
   "metadata": {},
   "source": [
    "## Problem 3:\n",
    "(20 pts) Implement a function that downsamples the image by a factor of n. For example, if n is 4 then you will sample every 4th pixel (feature) in the 784-dimension feature vector. Repeat the KNN leave-one-out experiment with at least 4 different values of n. Comment on the testing results and the query time of the classifier."
   ]
  },
  {
   "cell_type": "markdown",
   "metadata": {},
   "source": [
    "For this question, I am going to apply downsamples for n = 4, 8, 16, 32 as four different values on the 784 dimension feature vector.\n",
    "\n",
    "- n = 4\n",
    "- n = 8\n",
    "- n = 16\n",
    "- n = 32\n",
    "\n",
    "Let just get started by fitting the model with leave one out and find out which k suits for which nth downsample feature vectors.\n",
    "\n"
   ]
  },
  {
   "cell_type": "code",
   "execution_count": 24,
   "metadata": {},
   "outputs": [],
   "source": [
    "# Creating the Feature Transformation class object\n",
    "transformation = FeatureTransformation()"
   ]
  },
  {
   "cell_type": "code",
   "execution_count": 25,
   "metadata": {},
   "outputs": [],
   "source": [
    "# defining function that uses oneleave out model and calculates query time and cross-validation score for k=1 to 20\n",
    "def querytime_scores(X_train_ds,n):\n",
    "    start_time = timeit.default_timer()\n",
    "    knn = KNeighborsClassifier()\n",
    "    X_train_ds = transformation.down_sample(X_train, n)\n",
    "    # for k 1 to 20\n",
    "    k_range = range(1, 21)\n",
    "    k_scores = [] \n",
    "#implementing KNN leave-one-out approach and test values of K from 1 to 20\n",
    "    for k in k_range:\n",
    "        loocv = model_selection.LeaveOneOut()\n",
    "        knn = KNeighborsClassifier(n_neighbors=k)\n",
    "        knn.fit(X_train_ds, y_train)    \n",
    "        time1 = round(timeit.default_timer() - start_time, 4)\n",
    "        scores = cross_val_score(knn,X_train_ds,y_train, cv= loocv, scoring='accuracy') \n",
    "        k_scores.append(scores.mean())\n",
    "    return print('Query time for N=',n,':',time1,'seconds(s)''\\n''k_scores for k= 1to 20 are:', k_scores)"
   ]
  },
  {
   "cell_type": "code",
   "execution_count": 26,
   "metadata": {
    "scrolled": true
   },
   "outputs": [
    {
     "name": "stdout",
     "output_type": "stream",
     "text": [
      "Query time for N= 4 : 255.6308 seconds(s)\n",
      "k_scores for k= 1to 20 are: [0.847, 0.819, 0.837, 0.827, 0.82, 0.82, 0.817, 0.811, 0.805, 0.798, 0.797, 0.795, 0.794, 0.791, 0.787, 0.79, 0.787, 0.781, 0.779, 0.781]\n"
     ]
    }
   ],
   "source": [
    "#query time for downssaple n= 4 and cross validation score \n",
    "querytime_scores(X_train,4)"
   ]
  },
  {
   "cell_type": "code",
   "execution_count": 27,
   "metadata": {},
   "outputs": [
    {
     "name": "stdout",
     "output_type": "stream",
     "text": [
      "Query time for N= 8 : 150.0802 seconds(s)\n",
      "k_scores for k= 1to 20 are: [0.833, 0.799, 0.833, 0.824, 0.821, 0.828, 0.82, 0.806, 0.806, 0.814, 0.801, 0.803, 0.792, 0.797, 0.79, 0.788, 0.779, 0.778, 0.777, 0.774]\n"
     ]
    }
   ],
   "source": [
    "#query time for downssaple n= 8 and cross validation score \n",
    "querytime_scores(X_train,8)"
   ]
  },
  {
   "cell_type": "code",
   "execution_count": 28,
   "metadata": {},
   "outputs": [
    {
     "name": "stdout",
     "output_type": "stream",
     "text": [
      "Query time for N= 16 : 97.0036 seconds(s)\n",
      "k_scores for k= 1to 20 are: [0.713, 0.695, 0.713, 0.724, 0.707, 0.719, 0.722, 0.713, 0.713, 0.716, 0.714, 0.715, 0.717, 0.724, 0.712, 0.709, 0.711, 0.711, 0.71, 0.707]\n"
     ]
    }
   ],
   "source": [
    "#query time for downssaple n= 16 and cross validation score \n",
    "querytime_scores(X_train,16)"
   ]
  },
  {
   "cell_type": "code",
   "execution_count": 29,
   "metadata": {
    "scrolled": true
   },
   "outputs": [
    {
     "name": "stdout",
     "output_type": "stream",
     "text": [
      "Query time for N= 32 : 70.0752 seconds(s)\n",
      "k_scores for k= 1to 20 are: [0.498, 0.495, 0.51, 0.515, 0.532, 0.526, 0.535, 0.539, 0.541, 0.544, 0.532, 0.545, 0.542, 0.536, 0.527, 0.526, 0.53, 0.533, 0.53, 0.528]\n"
     ]
    }
   ],
   "source": [
    "#query time for downssaple n= 32 and cross validation score \n",
    "querytime_scores(X_train,32)"
   ]
  },
  {
   "cell_type": "markdown",
   "metadata": {},
   "source": [
    "## Bar-plot Query time vs downsampling"
   ]
  },
  {
   "cell_type": "code",
   "execution_count": 30,
   "metadata": {},
   "outputs": [],
   "source": [
    "# So, I can make a list of all above query time corresponding to values of n\n",
    "querytime = [255, 150, 97, 70]\n",
    "downsamples =[4, 8, 16, 32]"
   ]
  },
  {
   "cell_type": "code",
   "execution_count": 31,
   "metadata": {
    "scrolled": true
   },
   "outputs": [
    {
     "data": {
      "image/png": "[encoded data removed]",
      "text/plain": [
       "<Figure size 432x288 with 1 Axes>"
      ]
     },
     "metadata": {
      "needs_background": "light"
     },
     "output_type": "display_data"
    }
   ],
   "source": [
    "#plot query time vs sampling\n",
    "plt.bar(downsamples,querytime)\n",
    "plt.xlabel('Downsamples')\n",
    "plt.ylabel('Time in seconds')\n",
    "plt.title('Query time vs downsamples')\n",
    "plt.show()"
   ]
  },
  {
   "cell_type": "markdown",
   "metadata": {},
   "source": [
    "This makes sense. The query time has been decreased with increasing downsampling."
   ]
  },
  {
   "cell_type": "markdown",
   "metadata": {},
   "source": [
    "Now, I want to see how the model performance and how it is doing on test data, I am just calculating classifiaction report of n= 4 "
   ]
  },
  {
   "cell_type": "markdown",
   "metadata": {},
   "source": [
    "## Calculating Classification report on testing data"
   ]
  },
  {
   "cell_type": "code",
   "execution_count": 32,
   "metadata": {
    "scrolled": false
   },
   "outputs": [
    {
     "name": "stdout",
     "output_type": "stream",
     "text": [
      "The Calssification report on testing data with n =4 \n",
      "\n",
      "              precision    recall  f1-score   support\n",
      "\n",
      "           0       0.81      0.94      0.87       980\n",
      "           1       0.60      0.99      0.75      1135\n",
      "           2       0.86      0.72      0.78      1032\n",
      "           3       0.84      0.72      0.77      1010\n",
      "           4       0.74      0.74      0.74       982\n",
      "           5       0.81      0.65      0.72       892\n",
      "           6       0.86      0.84      0.85       958\n",
      "           7       0.83      0.81      0.82      1028\n",
      "           8       0.88      0.57      0.69       974\n",
      "           9       0.76      0.73      0.74      1009\n",
      "\n",
      "    accuracy                           0.78     10000\n",
      "   macro avg       0.80      0.77      0.77     10000\n",
      "weighted avg       0.79      0.78      0.77     10000\n",
      "\n"
     ]
    }
   ],
   "source": [
    "###########     N = 4    ###########\n",
    "print('The Calssification report on testing data with n =4 \\n')\n",
    "X_train_ds1 = transformation.down_sample(X_train, 4)\n",
    "knn.fit(X_train_ds1, y_train)\n",
    "X_test_ds1 = transformation.down_sample(X_test, 4)\n",
    "pred=knn.predict(X_test_ds1)\n",
    "testing_report =metrics.classification_report(y_test, pred)\n",
    "print(testing_report)"
   ]
  },
  {
   "cell_type": "code",
   "execution_count": 33,
   "metadata": {},
   "outputs": [
    {
     "name": "stdout",
     "output_type": "stream",
     "text": [
      "The Calssification report on testing data with n =8 \n",
      "\n",
      "              precision    recall  f1-score   support\n",
      "\n",
      "           0       0.81      0.94      0.87       980\n",
      "           1       0.62      0.99      0.76      1135\n",
      "           2       0.87      0.73      0.79      1032\n",
      "           3       0.80      0.73      0.76      1010\n",
      "           4       0.74      0.73      0.73       982\n",
      "           5       0.80      0.64      0.71       892\n",
      "           6       0.84      0.85      0.85       958\n",
      "           7       0.80      0.80      0.80      1028\n",
      "           8       0.87      0.56      0.68       974\n",
      "           9       0.73      0.71      0.72      1009\n",
      "\n",
      "    accuracy                           0.77     10000\n",
      "   macro avg       0.79      0.77      0.77     10000\n",
      "weighted avg       0.79      0.77      0.77     10000\n",
      "\n"
     ]
    }
   ],
   "source": [
    "# ###########     N = 8    ###########\n",
    "print('The Calssification report on testing data with n =8 \\n')\n",
    "\n",
    "X_train_ds2 = transformation.down_sample(X_train, 8)\n",
    "knn.fit(X_train_ds2, y_train)\n",
    "X_test_ds2 = transformation.down_sample(X_test, 8)\n",
    "pred=knn.predict(X_test_ds2)\n",
    "testing_report =metrics.classification_report(y_test, pred)\n",
    "print(testing_report)"
   ]
  },
  {
   "cell_type": "code",
   "execution_count": 34,
   "metadata": {},
   "outputs": [
    {
     "name": "stdout",
     "output_type": "stream",
     "text": [
      "The Calssification report on testing data with n =16 \n",
      "\n",
      "              precision    recall  f1-score   support\n",
      "\n",
      "           0       0.76      0.88      0.82       980\n",
      "           1       0.62      0.95      0.75      1135\n",
      "           2       0.75      0.61      0.67      1032\n",
      "           3       0.64      0.57      0.61      1010\n",
      "           4       0.61      0.61      0.61       982\n",
      "           5       0.61      0.44      0.51       892\n",
      "           6       0.74      0.78      0.76       958\n",
      "           7       0.64      0.70      0.67      1028\n",
      "           8       0.70      0.43      0.53       974\n",
      "           9       0.54      0.56      0.55      1009\n",
      "\n",
      "    accuracy                           0.66     10000\n",
      "   macro avg       0.66      0.65      0.65     10000\n",
      "weighted avg       0.66      0.66      0.65     10000\n",
      "\n"
     ]
    }
   ],
   "source": [
    "# ###########     N = 16    ###########\n",
    "print('The Calssification report on testing data with n =16 \\n')\n",
    "\n",
    "X_train_ds3 = transformation.down_sample(X_train, 16)\n",
    "knn.fit(X_train_ds3, y_train)\n",
    "X_test_ds3 = transformation.down_sample(X_test, 16)\n",
    "pred=knn.predict(X_test_ds3)\n",
    "testing_report =metrics.classification_report(y_test, pred)\n",
    "print(testing_report)"
   ]
  },
  {
   "cell_type": "code",
   "execution_count": 35,
   "metadata": {},
   "outputs": [
    {
     "name": "stdout",
     "output_type": "stream",
     "text": [
      "The Calssification report on testing data with n =32 \n",
      "\n",
      "              precision    recall  f1-score   support\n",
      "\n",
      "           0       0.81      0.94      0.87       980\n",
      "           1       0.60      0.99      0.75      1135\n",
      "           2       0.86      0.72      0.78      1032\n",
      "           3       0.84      0.72      0.77      1010\n",
      "           4       0.74      0.74      0.74       982\n",
      "           5       0.81      0.65      0.72       892\n",
      "           6       0.86      0.84      0.85       958\n",
      "           7       0.83      0.81      0.82      1028\n",
      "           8       0.88      0.57      0.69       974\n",
      "           9       0.76      0.73      0.74      1009\n",
      "\n",
      "    accuracy                           0.78     10000\n",
      "   macro avg       0.80      0.77      0.77     10000\n",
      "weighted avg       0.79      0.78      0.77     10000\n",
      "\n"
     ]
    }
   ],
   "source": [
    "# ###########     N = 32    ###########\n",
    "\n",
    "print('The Calssification report on testing data with n =32 \\n')\n",
    "X_train_ds4 = transformation.down_sample(X_train, 4)\n",
    "knn.fit(X_train_ds4, y_train)\n",
    "X_test_ds4 = transformation.down_sample(X_test, 4)\n",
    "pred=knn.predict(X_test_ds4)\n",
    "testing_report =metrics.classification_report(y_test, pred)\n",
    "print(testing_report)"
   ]
  },
  {
   "cell_type": "markdown",
   "metadata": {},
   "source": [
    "Above scores shows how well the model is performig on testing data for different downsampling."
   ]
  },
  {
   "cell_type": "markdown",
   "metadata": {},
   "source": [
    "## Question 4\n",
    "\n",
    "(20 pts) Implement a function that smart downsamples the image by binning nearby pixels. For example, if n is 4 then the 28x28 image will be binned down to a 7x7 image by summing each 4x4 block in the image. Repeat the KNN leave-one-out experiment with at least 4 different values of n. Comment on the testing results and the query time of the classifier.\n",
    "\n"
   ]
  },
  {
   "cell_type": "markdown",
   "metadata": {},
   "source": [
    "For this question, I am taking the orignal image numpy array which is in shape (60000, 28, 28) --> (No of images, height, width) and than apply the n strides over it to get the output images of shape (60000, 7, 7). Let just do that first now. We need to do this for both the test and train images. \n",
    "\n",
    "I am going to apply downsamples for n = 2, 3, 4, 5 as four different values of strides for binning them together."
   ]
  },
  {
   "cell_type": "code",
   "execution_count": 36,
   "metadata": {},
   "outputs": [],
   "source": [
    "# Creating the Feature Transformation class object\n",
    "knn = KNeighborsClassifier()\n",
    "transformation = FeatureTransformation()\n",
    "\n",
    "# Calling the downsample() to do binning using summing\n",
    "trainX_sds = transformation.down_sample(trainX, 2, binning = \"sum\")\n",
    "testX_sds = transformation.down_sample(testX, 2, binning = \"sum\")"
   ]
  },
  {
   "cell_type": "markdown",
   "metadata": {},
   "source": [
    "### Original Image"
   ]
  },
  {
   "cell_type": "code",
   "execution_count": 37,
   "metadata": {},
   "outputs": [
    {
     "data": {
      "text/plain": [
       "<matplotlib.image.AxesImage at 0x7fef858ccb00>"
      ]
     },
     "execution_count": 37,
     "metadata": {},
     "output_type": "execute_result"
    },
    {
     "data": {
      "image/png": "[encoded data removed]",
      "text/plain": [
       "<Figure size 432x288 with 1 Axes>"
      ]
     },
     "metadata": {
      "needs_background": "light"
     },
     "output_type": "display_data"
    }
   ],
   "source": [
    "# Plot the image\n",
    "plt.imshow(trainX[0])"
   ]
  },
  {
   "cell_type": "markdown",
   "metadata": {},
   "source": [
    "### Aftrer Stride of 2"
   ]
  },
  {
   "cell_type": "code",
   "execution_count": 38,
   "metadata": {},
   "outputs": [
    {
     "data": {
      "text/plain": [
       "<matplotlib.image.AxesImage at 0x7fef80f5edd8>"
      ]
     },
     "execution_count": 38,
     "metadata": {},
     "output_type": "execute_result"
    },
    {
     "data": {
      "image/png": "[encoded data removed]",
      "text/plain": [
       "<Figure size 432x288 with 1 Axes>"
      ]
     },
     "metadata": {
      "needs_background": "light"
     },
     "output_type": "display_data"
    }
   ],
   "source": [
    "# Plot the image\n",
    "plt.imshow(trainX_sds[0])"
   ]
  },
  {
   "cell_type": "code",
   "execution_count": 39,
   "metadata": {},
   "outputs": [
    {
     "name": "stdout",
     "output_type": "stream",
     "text": [
      "(60000, 196)\n"
     ]
    }
   ],
   "source": [
    "# Convert the shape of Train and Test set after strides application\n",
    "X_train_sds = trainX_sds.reshape(trainX_sds.shape[0], trainX_sds.shape[1] * trainX_sds.shape[1])\n",
    "\n",
    "# Print the changed shape\n",
    "print(X_train_sds.shape)"
   ]
  },
  {
   "cell_type": "markdown",
   "metadata": {},
   "source": [
    "X_test_sds = testX_sds.reshape(testX_sds.shape[0], testX_sds.shape[1] * testX_sds.shape[1])\n",
    "print(X_test_sds.shape)"
   ]
  },
  {
   "cell_type": "code",
   "execution_count": 40,
   "metadata": {},
   "outputs": [],
   "source": [
    "X_train_sds= X_train_sds[:1000]"
   ]
  },
  {
   "cell_type": "markdown",
   "metadata": {},
   "source": [
    "\n",
    "## It will use the latest fitted one-leave-out knn"
   ]
  },
  {
   "cell_type": "code",
   "execution_count": 41,
   "metadata": {},
   "outputs": [
    {
     "name": "stdout",
     "output_type": "stream",
     "text": [
      "Query time for N = 2: 0.0175 second(s)\n",
      "Query time for N = 3: 0.0093 second(s)\n",
      "Query time for N = 4: 0.005 second(s)\n",
      "Query time for N = 5: 0.0048 second(s)\n"
     ]
    }
   ],
   "source": [
    "###########     N = 2    ###########\n",
    "# Store the starting time for query time computation\n",
    "start_time = timeit.default_timer()\n",
    "\n",
    "# Fit the model in the leave out CV method\n",
    "knn.fit(X_train_sds, y_train)\n",
    "\n",
    "# Print the Query time\n",
    "time1 = round(timeit.default_timer() - start_time, 4)\n",
    "print(\"Query time for N = 2:\", time1, \"second(s)\")\n",
    "\n",
    "\n",
    "\n",
    "###########     N = 3    ###########\n",
    "# Calling the downsample() to do binning using summing\n",
    "trainX_sds = transformation.down_sample(trainX, 3, binning = \"sum\")\n",
    "testX_sds = transformation.down_sample(testX, 3, binning = \"sum\")\n",
    "\n",
    "# Convert the shape of Train and Test set after strides application\n",
    "X_train_sds = trainX_sds.reshape(trainX_sds.shape[0], trainX_sds.shape[1] * trainX_sds.shape[1])\n",
    "X_train_sds= X_train_sds[:1000]\n",
    "\n",
    "# Store the starting time for query time computation\n",
    "start_time = timeit.default_timer()\n",
    "\n",
    "# Fit the model in the leave out CV method\n",
    "knn.fit(X_train_sds, y_train)\n",
    "\n",
    "# Print the Query time\n",
    "time2 = round(timeit.default_timer() - start_time, 4)\n",
    "print(\"Query time for N = 3:\", time2, \"second(s)\")\n",
    "\n",
    "\n",
    "\n",
    "###########     N = 4    ###########\n",
    "# Calling the downsample() to do binning using summing\n",
    "trainX_sds = transformation.down_sample(trainX, 4, binning = \"sum\")\n",
    "testX_sds = transformation.down_sample(testX, 4, binning = \"sum\")\n",
    "\n",
    "# Convert the shape of Train and Test set after strides application\n",
    "X_train_sds = trainX_sds.reshape(trainX_sds.shape[0], trainX_sds.shape[1] * trainX_sds.shape[1])\n",
    "X_train_sds= X_train_sds[:1000]\n",
    "\n",
    "# Store the starting time for query time computation\n",
    "start_time = timeit.default_timer()\n",
    "\n",
    "# Fit the model in the leave out CV method\n",
    "knn.fit(X_train_sds, y_train)\n",
    "\n",
    "# Print the Query time\n",
    "time3 = round(timeit.default_timer() - start_time, 4)\n",
    "print(\"Query time for N = 4:\", time3, \"second(s)\")\n",
    "\n",
    "\n",
    "###########     N = 5    ###########\n",
    "# Calling the downsample() to do binning using summing\n",
    "trainX_sds = transformation.down_sample(trainX, 5, binning = \"sum\")\n",
    "testX_sds = transformation.down_sample(testX, 5, binning = \"sum\")\n",
    "\n",
    "# Convert the shape of Train and Test set after strides application\n",
    "X_train_sds = trainX_sds.reshape(trainX_sds.shape[0], trainX_sds.shape[1] * trainX_sds.shape[1])\n",
    "X_train_sds= X_train_sds[:1000]\n",
    "\n",
    "# Store the starting time for query time computation\n",
    "start_time = timeit.default_timer()\n",
    "\n",
    "# Fit the model in the leave out CV method\n",
    "knn.fit(X_train_sds, y_train)\n",
    "\n",
    "# Print the Query time\n",
    "time4 = round(timeit.default_timer() - start_time, 4)\n",
    "print(\"Query time for N = 5:\", time4, \"second(s)\")\n"
   ]
  },
  {
   "cell_type": "code",
   "execution_count": 42,
   "metadata": {},
   "outputs": [],
   "source": [
    "# So, I can make a list of all above query time corresponding to values of n\n",
    "querytime = [0.0174, 0.0093, 0.005, 0.0048 ]\n",
    "downsamples =[2, 3, 4, 5]"
   ]
  },
  {
   "cell_type": "code",
   "execution_count": 43,
   "metadata": {},
   "outputs": [
    {
     "data": {
      "image/png": "[encoded data removed]",
      "text/plain": [
       "<Figure size 432x288 with 1 Axes>"
      ]
     },
     "metadata": {
      "needs_background": "light"
     },
     "output_type": "display_data"
    }
   ],
   "source": [
    "#plot query time vs sampling\n",
    "plt.bar(downsamples,querytime)\n",
    "plt.xlabel('Downsamples')\n",
    "plt.ylabel('Time in seconds')\n",
    "plt.title('Query time vs downsamples')\n",
    "plt.show()"
   ]
  },
  {
   "cell_type": "markdown",
   "metadata": {},
   "source": [
    "This makes sense. The query time has been decreased with increasing downsampling. Further in this case query time much lower than previous query times."
   ]
  },
  {
   "cell_type": "markdown",
   "metadata": {},
   "source": [
    "## Calculating Classification report on testing data"
   ]
  },
  {
   "cell_type": "code",
   "execution_count": 44,
   "metadata": {},
   "outputs": [
    {
     "name": "stdout",
     "output_type": "stream",
     "text": [
      "The Calssification report on testing data with n =2 \n",
      "\n",
      "              precision    recall  f1-score   support\n",
      "\n",
      "           0       0.91      0.97      0.94       980\n",
      "           1       0.85      0.99      0.92      1135\n",
      "           2       0.94      0.82      0.88      1032\n",
      "           3       0.90      0.88      0.89      1010\n",
      "           4       0.86      0.81      0.83       982\n",
      "           5       0.86      0.83      0.84       892\n",
      "           6       0.91      0.94      0.93       958\n",
      "           7       0.88      0.88      0.88      1028\n",
      "           8       0.94      0.77      0.85       974\n",
      "           9       0.76      0.87      0.81      1009\n",
      "\n",
      "    accuracy                           0.88     10000\n",
      "   macro avg       0.88      0.88      0.88     10000\n",
      "weighted avg       0.88      0.88      0.88     10000\n",
      "\n"
     ]
    }
   ],
   "source": [
    "# Calling the downsample() to do binning using summing\n",
    "trainX_sds = transformation.down_sample(trainX, 2, binning = \"sum\")\n",
    "testX_sds = transformation.down_sample(testX, 2, binning = \"sum\")\n",
    "\n",
    "# Convert the shape of Train and Test set after strides application\n",
    "X_train_sds = trainX_sds.reshape(trainX_sds.shape[0], trainX_sds.shape[1] * trainX_sds.shape[1])\n",
    "\n",
    "X_train_sds= X_train_sds[:1000]\n",
    "\n",
    "\n",
    "print('The Calssification report on testing data with n =2 \\n')\n",
    "knn.fit(X_train_sds, y_train)\n",
    "X_test_sds = testX_sds.reshape(testX_sds.shape[0], testX_sds.shape[1] * testX_sds.shape[1])\n",
    "\n",
    "\n",
    "predx=knn.predict(X_test_sds)\n",
    "testing_report =metrics.classification_report(y_test, predx)\n",
    "print(testing_report)"
   ]
  },
  {
   "cell_type": "code",
   "execution_count": 45,
   "metadata": {},
   "outputs": [
    {
     "name": "stdout",
     "output_type": "stream",
     "text": [
      "The Calssification report on testing data with n =3 \n",
      "\n",
      "              precision    recall  f1-score   support\n",
      "\n",
      "           0       0.91      0.98      0.94       980\n",
      "           1       0.88      0.99      0.93      1135\n",
      "           2       0.95      0.84      0.89      1032\n",
      "           3       0.90      0.84      0.87      1010\n",
      "           4       0.87      0.81      0.84       982\n",
      "           5       0.85      0.82      0.83       892\n",
      "           6       0.92      0.93      0.92       958\n",
      "           7       0.89      0.87      0.88      1028\n",
      "           8       0.89      0.78      0.83       974\n",
      "           9       0.75      0.89      0.81      1009\n",
      "\n",
      "    accuracy                           0.88     10000\n",
      "   macro avg       0.88      0.88      0.88     10000\n",
      "weighted avg       0.88      0.88      0.88     10000\n",
      "\n"
     ]
    }
   ],
   "source": [
    "# Calling the downsample() to do binning using summing\n",
    "trainX_sds = transformation.down_sample(trainX, 3, binning = \"sum\")\n",
    "testX_sds = transformation.down_sample(testX, 3, binning = \"sum\")\n",
    "\n",
    "# Convert the shape of Train and Test set after strides application\n",
    "X_train_sds = trainX_sds.reshape(trainX_sds.shape[0], trainX_sds.shape[1] * trainX_sds.shape[1])\n",
    "\n",
    "X_train_sds= X_train_sds[:1000]\n",
    "\n",
    "\n",
    "print('The Calssification report on testing data with n =3 \\n')\n",
    "knn.fit(X_train_sds, y_train)\n",
    "X_test_sds = testX_sds.reshape(testX_sds.shape[0], testX_sds.shape[1] * testX_sds.shape[1])\n",
    "\n",
    "\n",
    "predx=knn.predict(X_test_sds)\n",
    "testing_report =metrics.classification_report(y_test, predx)\n",
    "print(testing_report)"
   ]
  },
  {
   "cell_type": "code",
   "execution_count": 46,
   "metadata": {},
   "outputs": [
    {
     "name": "stdout",
     "output_type": "stream",
     "text": [
      "The Calssification report on testing data with n =4 \n",
      "\n",
      "              precision    recall  f1-score   support\n",
      "\n",
      "           0       0.90      0.97      0.94       980\n",
      "           1       0.88      0.99      0.93      1135\n",
      "           2       0.94      0.85      0.89      1032\n",
      "           3       0.89      0.84      0.86      1010\n",
      "           4       0.81      0.73      0.77       982\n",
      "           5       0.83      0.81      0.82       892\n",
      "           6       0.88      0.89      0.89       958\n",
      "           7       0.90      0.87      0.89      1028\n",
      "           8       0.87      0.73      0.79       974\n",
      "           9       0.69      0.85      0.76      1009\n",
      "\n",
      "    accuracy                           0.85     10000\n",
      "   macro avg       0.86      0.85      0.85     10000\n",
      "weighted avg       0.86      0.85      0.85     10000\n",
      "\n"
     ]
    }
   ],
   "source": [
    "# Calling the downsample() to do binning using summing\n",
    "trainX_sds = transformation.down_sample(trainX, 4, binning = \"sum\")\n",
    "testX_sds = transformation.down_sample(testX, 4, binning = \"sum\")\n",
    "\n",
    "# Convert the shape of Train and Test set after strides application\n",
    "X_train_sds = trainX_sds.reshape(trainX_sds.shape[0], trainX_sds.shape[1] * trainX_sds.shape[1])\n",
    "\n",
    "X_train_sds= X_train_sds[:1000]\n",
    "\n",
    "\n",
    "print('The Calssification report on testing data with n =4 \\n')\n",
    "knn.fit(X_train_sds, y_train)\n",
    "X_test_sds = testX_sds.reshape(testX_sds.shape[0], testX_sds.shape[1] * testX_sds.shape[1])\n",
    "\n",
    "\n",
    "predx=knn.predict(X_test_sds)\n",
    "testing_report =metrics.classification_report(y_test, predx)\n",
    "print(testing_report)"
   ]
  },
  {
   "cell_type": "code",
   "execution_count": 47,
   "metadata": {},
   "outputs": [
    {
     "name": "stdout",
     "output_type": "stream",
     "text": [
      "The Calssification report on testing data with n =5 \n",
      "\n",
      "              precision    recall  f1-score   support\n",
      "\n",
      "           0       0.86      0.91      0.89       980\n",
      "           1       0.82      0.94      0.88      1135\n",
      "           2       0.93      0.75      0.83      1032\n",
      "           3       0.76      0.73      0.75      1010\n",
      "           4       0.71      0.70      0.71       982\n",
      "           5       0.76      0.72      0.74       892\n",
      "           6       0.87      0.84      0.86       958\n",
      "           7       0.76      0.75      0.75      1028\n",
      "           8       0.75      0.72      0.73       974\n",
      "           9       0.64      0.75      0.69      1009\n",
      "\n",
      "    accuracy                           0.78     10000\n",
      "   macro avg       0.79      0.78      0.78     10000\n",
      "weighted avg       0.79      0.78      0.78     10000\n",
      "\n"
     ]
    }
   ],
   "source": [
    "# Calling the downsample() to do binning using summing\n",
    "trainX_sds = transformation.down_sample(trainX, 5, binning = \"sum\")\n",
    "testX_sds = transformation.down_sample(testX, 5, binning = \"sum\")\n",
    "\n",
    "# Convert the shape of Train and Test set after strides application\n",
    "X_train_sds = trainX_sds.reshape(trainX_sds.shape[0], trainX_sds.shape[1] * trainX_sds.shape[1])\n",
    "\n",
    "X_train_sds= X_train_sds[:1000]\n",
    "\n",
    "\n",
    "print('The Calssification report on testing data with n =5 \\n')\n",
    "knn.fit(X_train_sds, y_train)\n",
    "X_test_sds = testX_sds.reshape(testX_sds.shape[0], testX_sds.shape[1] * testX_sds.shape[1])\n",
    "\n",
    "\n",
    "predx=knn.predict(X_test_sds)\n",
    "testing_report =metrics.classification_report(y_test, predx)\n",
    "print(testing_report)"
   ]
  },
  {
   "cell_type": "markdown",
   "metadata": {},
   "source": [
    "Above scores shows how well the model is performig on testing data for different downsampling."
   ]
  },
  {
   "cell_type": "markdown",
   "metadata": {},
   "source": [
    "## Question 5"
   ]
  },
  {
   "cell_type": "markdown",
   "metadata": {},
   "source": [
    "(10 pts) Run your smart downsampler at n = 28. Essentially, reduce each image down to 1 pixel by summing them all. The motivation here is that an '8' will obviously have more dark pixels than a '1' . Repeat the KNN leave-one-out experiment. Comment on the testing results and the query time of the classifier"
   ]
  },
  {
   "cell_type": "markdown",
   "metadata": {},
   "source": [
    "So this question is similar to that of the previous qiestion where as instead of choosing the N value on our own, we need to use N = 28. Actually what we are doing is that just reducing the whole image into one single pixel by summming it and using that one single feature to make the prediction."
   ]
  },
  {
   "cell_type": "code",
   "execution_count": 48,
   "metadata": {},
   "outputs": [],
   "source": [
    "# Creating the Feature Transformation class object\n",
    "transformation = FeatureTransformation()\n",
    "\n",
    "# Calling the downsample() to do binning using summing\n",
    "trainX_sds = transformation.down_sample(trainX, 28, binning = \"sum\")\n",
    "testX_sds = transformation.down_sample(testX, 28, binning = \"sum\")"
   ]
  },
  {
   "cell_type": "markdown",
   "metadata": {},
   "source": [
    "Let just view the original and image after feature transformation."
   ]
  },
  {
   "cell_type": "code",
   "execution_count": 49,
   "metadata": {},
   "outputs": [
    {
     "data": {
      "text/plain": [
       "<matplotlib.image.AxesImage at 0x7fef8592a588>"
      ]
     },
     "execution_count": 49,
     "metadata": {},
     "output_type": "execute_result"
    },
    {
     "data": {
      "image/png": "[encoded data removed]",
      "text/plain": [
       "<Figure size 432x288 with 1 Axes>"
      ]
     },
     "metadata": {
      "needs_background": "light"
     },
     "output_type": "display_data"
    }
   ],
   "source": [
    "# Original Image\n",
    "plt.imshow(trainX[0])"
   ]
  },
  {
   "cell_type": "code",
   "execution_count": 50,
   "metadata": {},
   "outputs": [
    {
     "data": {
      "text/plain": [
       "<matplotlib.image.AxesImage at 0x7fef895f69e8>"
      ]
     },
     "execution_count": 50,
     "metadata": {},
     "output_type": "execute_result"
    },
    {
     "data": {
      "image/png": "[encoded data removed]",
      "text/plain": [
       "<Figure size 432x288 with 1 Axes>"
      ]
     },
     "metadata": {
      "needs_background": "light"
     },
     "output_type": "display_data"
    }
   ],
   "source": [
    "# After transformation\n",
    "plt.imshow(trainX_sds[0])"
   ]
  },
  {
   "cell_type": "markdown",
   "metadata": {},
   "source": [
    "This image represent just a single pixel. Now, our feature vector is just a single vector of 60000 rows.so, lets reshape the train image that is suitable for the KNN computation ie) in 2D array format."
   ]
  },
  {
   "cell_type": "code",
   "execution_count": 51,
   "metadata": {},
   "outputs": [
    {
     "name": "stdout",
     "output_type": "stream",
     "text": [
      "(60000, 1)\n"
     ]
    }
   ],
   "source": [
    "# Convert the shape of Train and Test set after strides application\n",
    "X_train_sds = trainX_sds.reshape(trainX_sds.shape[0], trainX_sds.shape[1] * trainX_sds.shape[1])\n",
    "\n",
    "# Print the changed shape\n",
    "print(X_train_sds.shape)"
   ]
  },
  {
   "cell_type": "markdown",
   "metadata": {},
   "source": [
    "Thus we have our image data converted into the form (60000 * 1 matrix) that is suitable for the KNN algorithm. Let try to fit the model. "
   ]
  },
  {
   "cell_type": "code",
   "execution_count": 52,
   "metadata": {},
   "outputs": [],
   "source": [
    "# Again let us reduce the size of the data\n",
    "X_train_sds =X_train_sds[:1000]"
   ]
  },
  {
   "cell_type": "code",
   "execution_count": 53,
   "metadata": {},
   "outputs": [
    {
     "name": "stdout",
     "output_type": "stream",
     "text": [
      "Query time: 0.0027 second(s)\n"
     ]
    }
   ],
   "source": [
    "# Store the starting time for query time computation\n",
    "start_time = timeit.default_timer()\n",
    "\n",
    "# Fit the model in the leave out CV method\n",
    "#our latest fitted knn is one leave out,so knn calls the latest knn\n",
    "knn.fit(X_train_sds, y_train)\n",
    "\n",
    "# Print the Query time\n",
    "time1 = round(timeit.default_timer() - start_time, 4)\n",
    "print(\"Query time:\", time1, \"second(s)\")"
   ]
  },
  {
   "cell_type": "markdown",
   "metadata": {},
   "source": [
    "It's superfast in this case. Query time sufficiently low!"
   ]
  },
  {
   "cell_type": "markdown",
   "metadata": {},
   "source": [
    "## Calculating Classification report on testing data"
   ]
  },
  {
   "cell_type": "code",
   "execution_count": 54,
   "metadata": {},
   "outputs": [
    {
     "name": "stdout",
     "output_type": "stream",
     "text": [
      "The Calssification report on testing data with n =28 \n",
      "\n",
      "              precision    recall  f1-score   support\n",
      "\n",
      "           0       0.19      0.44      0.26       980\n",
      "           1       0.42      0.69      0.52      1135\n",
      "           2       0.14      0.18      0.16      1032\n",
      "           3       0.11      0.09      0.09      1010\n",
      "           4       0.13      0.09      0.11       982\n",
      "           5       0.09      0.04      0.06       892\n",
      "           6       0.10      0.07      0.08       958\n",
      "           7       0.13      0.10      0.11      1028\n",
      "           8       0.13      0.06      0.08       974\n",
      "           9       0.16      0.11      0.13      1009\n",
      "\n",
      "    accuracy                           0.20     10000\n",
      "   macro avg       0.16      0.19      0.16     10000\n",
      "weighted avg       0.16      0.20      0.17     10000\n",
      "\n"
     ]
    }
   ],
   "source": [
    "# Calling the downsample() to do binning using summing\n",
    "trainX_sds = transformation.down_sample(trainX, 28, binning = \"sum\")\n",
    "testX_sds = transformation.down_sample(testX, 28, binning = \"sum\")\n",
    "\n",
    "# Convert the shape of Train and Test set after strides application\n",
    "X_train_sds = trainX_sds.reshape(trainX_sds.shape[0], trainX_sds.shape[1] * trainX_sds.shape[1])\n",
    "\n",
    "X_train_sds= X_train_sds[:1000]\n",
    "\n",
    "\n",
    "print('The Calssification report on testing data with n =28 \\n')\n",
    "knn.fit(X_train_sds, y_train)\n",
    "X_test_sds = testX_sds.reshape(testX_sds.shape[0], testX_sds.shape[1] * testX_sds.shape[1])\n",
    "\n",
    "\n",
    "predx=knn.predict(X_test_sds)\n",
    "testing_report =metrics.classification_report(y_test, predx)\n",
    "print(testing_report)"
   ]
  },
  {
   "cell_type": "markdown",
   "metadata": {},
   "source": [
    "So, this model correctly predict 1 than other. for 3, prediction is poor."
   ]
  },
  {
   "cell_type": "markdown",
   "metadata": {},
   "source": [
    "## Question 6"
   ]
  },
  {
   "cell_type": "markdown",
   "metadata": {},
   "source": [
    "(30 pts) Do a little research of your own and develop a feature transformation method that you then use with the KNN leave-one-out experiment. Describe your method in detail, using equations and figures as necessary. Someone should be able to reproduce your results with your description. Comment on the testing results and the query time of the classifier."
   ]
  },
  {
   "cell_type": "markdown",
   "metadata": {},
   "source": [
    "### Solution\n",
    "\n",
    "MNIST data se has a bunch of images which are used to create a Handwritten recongition model for USPS to identify zipcodes in the letters.\n",
    "It was carried out by one of the pioneering researcher in the field of Deep Learning, Dr. Yann Le Cun. DR. LeCun is widely known for his inventions and cutting edge research in the field of Convolution Neural Networks which is technique overall driving force for solving the Image recognition problem. \n",
    "\n",
    "So we decided to use one of the techniques which is used in the architechture of Convolution Neural Networks (CNN) called pooling. Its function is to progressively reduce the spatial size of the representation to reduce the amount of parameters and computation in the network, and hence to also control overfitting. The pooling methodology can be classified in two different ways. They are\n",
    "\n",
    "- Max pooling: The maximum pixel value of the batch is selected.\n",
    "- Min pooling: The minimum pixel value of the batch is selected.\n",
    "\n",
    "But it is generally believed that by most of the researchers and by engineers in big firm that Max Pooling is by far better than Min and Sum Pooling because the values of the neighbourhood cells are not independent when the feature is present in the neighbourhood. As a result, linear summation makes no sense. <strong>And thus we are going to implement Max Pooling feature transformation for this question.</strong> Before heading on to the KNN, lets spend some time in learning what is Max Pooling in bit detail.\n",
    "\n",
    "### Max Pooling\n",
    "\n",
    "Max pooling is a sample-based discretization process. The objective is to down-sample an input representation (image, hidden-layer output matrix, etc.), reducing its dimensionality and allowing for assumptions to be made about features contained in the sub-regions binned.\n",
    "\n",
    "This is done to in part to help over-fitting by providing an abstracted form of the representation. As well, it reduces the computational cost by reducing the number of parameters to learn and provides basic translation invariance to the internal representation.\n",
    "\n",
    "Max pooling is done by applying a max filter to (usually) non-overlapping subregions of the initial representation.\n",
    "\n",
    "Let's say we have a 4x4 matrix representing our initial input. \n",
    "\n",
    "Let's say, as well, that we have a 2x2 filter that we'll run over our input. We'll have a stride of 2 (meaning the (dx, dy) for stepping over our input will be (2, 2)) and won't overlap regions.\n",
    "\n",
    "\n",
    "When we use it, the input image would be somewhat blurry or perhaps \"ghostly\". Say we have a neighbourhood of 4 cells, on which we perform pooling. If a feature is detected at the first cell, then it is less likely to be detected in the other 3 cells. If all that we are concerned with is whether the feature is present within this small neighbourhood, taking the average from the 4 cells would cause the output value to be lower than the actual value. \n",
    "\n",
    "### Max Pooling techniques on the image with strides of 2 * 2 and perform the procedure which I followed in the previous question to see what sort of outputs I am getting for this. Lets do it!"
   ]
  },
  {
   "cell_type": "code",
   "execution_count": 55,
   "metadata": {},
   "outputs": [],
   "source": [
    "# Creating the Feature Transformation class object\n",
    "transformation = FeatureTransformation()\n",
    "\n",
    "# Calling the downsample() to do binning using summing\n",
    "trainX_mp = transformation.down_sample(trainX, 2, binning = \"max\")\n",
    "testX_mp = transformation.down_sample(testX, 2, binning = \"max\")"
   ]
  },
  {
   "cell_type": "code",
   "execution_count": 56,
   "metadata": {},
   "outputs": [
    {
     "data": {
      "text/plain": [
       "(60000, 14, 14)"
      ]
     },
     "execution_count": 56,
     "metadata": {},
     "output_type": "execute_result"
    }
   ],
   "source": [
    "trainX_mp.shape"
   ]
  },
  {
   "cell_type": "markdown",
   "metadata": {},
   "source": [
    "Let just view the original and image after feature transformation."
   ]
  },
  {
   "cell_type": "code",
   "execution_count": 57,
   "metadata": {},
   "outputs": [
    {
     "data": {
      "text/plain": [
       "<matplotlib.image.AxesImage at 0x7fef856d71d0>"
      ]
     },
     "execution_count": 57,
     "metadata": {},
     "output_type": "execute_result"
    },
    {
     "data": {
      "image/png": "[encoded data removed]",
      "text/plain": [
       "<Figure size 432x288 with 1 Axes>"
      ]
     },
     "metadata": {
      "needs_background": "light"
     },
     "output_type": "display_data"
    }
   ],
   "source": [
    "# Original Image\n",
    "plt.imshow(trainX[0])"
   ]
  },
  {
   "cell_type": "code",
   "execution_count": 58,
   "metadata": {},
   "outputs": [
    {
     "data": {
      "text/plain": [
       "<matplotlib.image.AxesImage at 0x7fef8589fba8>"
      ]
     },
     "execution_count": 58,
     "metadata": {},
     "output_type": "execute_result"
    },
    {
     "data": {
      "image/png": "[encoded data removed]",
      "text/plain": [
       "<Figure size 432x288 with 1 Axes>"
      ]
     },
     "metadata": {
      "needs_background": "light"
     },
     "output_type": "display_data"
    }
   ],
   "source": [
    "# After transformation\n",
    "plt.imshow(trainX_mp[0])"
   ]
  },
  {
   "cell_type": "markdown",
   "metadata": {},
   "source": [
    "We can see that the max pooling has kind of shaded the image which will help in the learning procedure. Let just do that by reshaping the train image that is suitable for the KNN computation ie) in 2D array format."
   ]
  },
  {
   "cell_type": "code",
   "execution_count": 59,
   "metadata": {},
   "outputs": [
    {
     "name": "stdout",
     "output_type": "stream",
     "text": [
      "(60000, 196)\n"
     ]
    }
   ],
   "source": [
    "# Convert the shape of Train and Test set after strides application\n",
    "X_train_mp = trainX_mp.reshape(trainX_mp.shape[0], trainX_mp.shape[1] * trainX_mp.shape[1])\n",
    "\n",
    "# Print the changed shape\n",
    "print(X_train_mp.shape)"
   ]
  },
  {
   "cell_type": "markdown",
   "metadata": {},
   "source": [
    "Thus we have our image data converted into the form (60000, 196) matrix that is suitable for the KNN algorithm. Let try to fit the model."
   ]
  },
  {
   "cell_type": "code",
   "execution_count": 60,
   "metadata": {},
   "outputs": [],
   "source": [
    "X_train_mp= X_train_mp[:1000]"
   ]
  },
  {
   "cell_type": "code",
   "execution_count": 61,
   "metadata": {},
   "outputs": [
    {
     "name": "stdout",
     "output_type": "stream",
     "text": [
      "Query time: 0.0205 second(s)\n"
     ]
    }
   ],
   "source": [
    "# Store the starting time for query time computation\n",
    "start_time = timeit.default_timer()\n",
    "\n",
    "# Fit the model in the leave out CV method\n",
    "knn.fit(X_train_mp, y_train)\n",
    "\n",
    "# Print the Query time\n",
    "time = round(timeit.default_timer() - start_time, 4)\n",
    "print(\"Query time:\", time, \"second(s)\")\n"
   ]
  },
  {
   "cell_type": "markdown",
   "metadata": {},
   "source": [
    "## Calculating Classification report on testing data"
   ]
  },
  {
   "cell_type": "code",
   "execution_count": 62,
   "metadata": {},
   "outputs": [
    {
     "name": "stdout",
     "output_type": "stream",
     "text": [
      "The Calssification report on testing data with n =28 \n",
      "\n",
      "              precision    recall  f1-score   support\n",
      "\n",
      "           0       0.87      0.98      0.92       980\n",
      "           1       0.86      0.99      0.92      1135\n",
      "           2       0.95      0.85      0.90      1032\n",
      "           3       0.90      0.85      0.87      1010\n",
      "           4       0.89      0.73      0.80       982\n",
      "           5       0.86      0.79      0.82       892\n",
      "           6       0.92      0.94      0.93       958\n",
      "           7       0.91      0.88      0.89      1028\n",
      "           8       0.91      0.77      0.83       974\n",
      "           9       0.70      0.91      0.79      1009\n",
      "\n",
      "    accuracy                           0.87     10000\n",
      "   macro avg       0.88      0.87      0.87     10000\n",
      "weighted avg       0.88      0.87      0.87     10000\n",
      "\n"
     ]
    }
   ],
   "source": [
    "# Calling the downsample() to do binning using summing\n",
    "trainX_mp = transformation.down_sample(trainX, 2, binning = \"max\")\n",
    "testX_mp = transformation.down_sample(testX, 2, binning = \"max\")\n",
    "\n",
    "# Convert the shape of Train and Test set after strides application\n",
    "X_train_mp = trainX_mp.reshape(trainX_mp.shape[0], trainX_mp.shape[1] * trainX_mp.shape[1])\n",
    "\n",
    "X_train_mp= X_train_mp[:1000]\n",
    "\n",
    "\n",
    "print('The Calssification report on testing data with n =28 \\n')\n",
    "knn.fit(X_train_mp, y_train)\n",
    "X_test_mp = testX_mp.reshape(testX_mp.shape[0], testX_mp.shape[1] * testX_mp.shape[1])\n",
    "\n",
    "\n",
    "predx=knn.predict(X_test_mp)\n",
    "testing_report =metrics.classification_report(y_test, predx)\n",
    "print(testing_report)"
   ]
  },
  {
   "cell_type": "markdown",
   "metadata": {},
   "source": [
    "The end !!"
   ]
  },
  {
   "cell_type": "markdown",
   "metadata": {},
   "source": [
    "#### In this project, I spent a lot of time to run the code using original data but my computer shut off many times. So, I took a small part of data using  X_train= X_train[:1000]. So, I know my results will not be close to the real results but if we run this with 60000 data, I believe the result will make some sense.\n"
   ]
  },
  {
   "cell_type": "markdown",
   "metadata": {},
   "source": [
    "Thank you !\n"
   ]
  }
 ],
 "metadata": {
  "kernelspec": {
   "display_name": "Python 3",
   "language": "python",
   "name": "python3"
  },
  "language_info": {
   "codemirror_mode": {
    "name": "ipython",
    "version": 3
   },
   "file_extension": ".py",
   "mimetype": "text/x-python",
   "name": "python",
   "nbconvert_exporter": "python",
   "pygments_lexer": "ipython3",
   "version": "3.7.3"
  }
 },
 "nbformat": 4,
 "nbformat_minor": 4
}
