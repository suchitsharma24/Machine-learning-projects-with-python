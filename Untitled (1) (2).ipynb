{
 "cells": [
  {
   "cell_type": "markdown",
   "metadata": {},
   "source": [
    "# Tutorial for adversarial machine learning"
   ]
  },
  {
   "cell_type": "markdown",
   "metadata": {},
   "source": [
    "\n",
    "Why is is necessary?\n",
    "Nowadays machine learning models are widely deployed and even though previously low accuracy was acceptable, this has now become the exception, and we’ve come to expect them to perform flawlessly, especially when they are deployed in real-world applications.\n",
    "In real-world scenarios, security vulnerabilities coming from model errors have become a real concern. Imagine self driving cars misreading road signals that have been purposely tweaked to fool image detection! These tweaks may be non-evident or insignificant to human eye but severely affects model performance.Adversarial examples for images are images with intentionally perturbed pixels with the aim to deceive the model during application time. The examples impressively demonstrate how easily deep neural networks for object recognition can be deceived by images that appear harmless to humans. If you have not yet seen these examples, you might be surprised, because the changes in predictions are incomprehensible for a human observer. Adversarial examples are like optical illusions but for machines.\n",
    "\n",
    "==>If the attacker has the access to the information about the underlying model parameters and architecture, it’s called a White Box Attack.\n",
    "==>On the other hand, if the attacker has no access to the deployed model architecture etc., the attack is called a Black Box Attack. \n"
   ]
  },
  {
   "cell_type": "code",
   "execution_count": 52,
   "metadata": {},
   "outputs": [],
   "source": [
    "#Adversarial Machine Learning: How to Attack and Defend ML Models\n",
    "#Attack==>purposely exploting an ML model by crafting malicious data to produce poor results.\n",
    "#Defense==>hard proofing the model to provide minimal feedback to user so that a malicious strategy cannot be developed or by adding features in th model itself that make fooling it increasingly difficult."
   ]
  },
  {
   "cell_type": "code",
   "execution_count": 53,
   "metadata": {},
   "outputs": [
    {
     "name": "stdout",
     "output_type": "stream",
     "text": [
      "Requirement already satisfied: art in d:\\suchitsharma\\anaconda3\\lib\\site-packages (4.6)\n",
      "Note: you may need to restart the kernel to use updated packages.\n"
     ]
    }
   ],
   "source": [
    "pip install art"
   ]
  },
  {
   "cell_type": "code",
   "execution_count": 54,
   "metadata": {},
   "outputs": [
    {
     "name": "stdout",
     "output_type": "stream",
     "text": [
      "Requirement already satisfied: adversarial-robustness-toolbox in d:\\suchitsharma\\anaconda3\\lib\\site-packages (1.2.0)\n",
      "Requirement already satisfied: numpy in d:\\suchitsharma\\anaconda3\\lib\\site-packages (from adversarial-robustness-toolbox) (1.18.1)\n",
      "Requirement already satisfied: Pillow==7.0.0 in d:\\suchitsharma\\anaconda3\\lib\\site-packages (from adversarial-robustness-toolbox) (7.0.0)\n",
      "Requirement already satisfied: scipy in d:\\suchitsharma\\anaconda3\\lib\\site-packages (from adversarial-robustness-toolbox) (1.4.1)\n",
      "Requirement already satisfied: setuptools in d:\\suchitsharma\\anaconda3\\lib\\site-packages (from adversarial-robustness-toolbox) (45.2.0.post20200210)\n",
      "Requirement already satisfied: scikit-learn==0.22.1 in d:\\suchitsharma\\anaconda3\\lib\\site-packages (from adversarial-robustness-toolbox) (0.22.1)\n",
      "Requirement already satisfied: six in d:\\suchitsharma\\anaconda3\\lib\\site-packages (from adversarial-robustness-toolbox) (1.14.0)\n",
      "Requirement already satisfied: matplotlib in d:\\suchitsharma\\anaconda3\\lib\\site-packages (from adversarial-robustness-toolbox) (3.1.3)\n",
      "Requirement already satisfied: joblib>=0.11 in d:\\suchitsharma\\anaconda3\\lib\\site-packages (from scikit-learn==0.22.1->adversarial-robustness-toolbox) (0.14.1)\n",
      "Requirement already satisfied: cycler>=0.10 in d:\\suchitsharma\\anaconda3\\lib\\site-packages (from matplotlib->adversarial-robustness-toolbox) (0.10.0)\n",
      "Requirement already satisfied: python-dateutil>=2.1 in d:\\suchitsharma\\anaconda3\\lib\\site-packages (from matplotlib->adversarial-robustness-toolbox) (2.8.1)\n",
      "Requirement already satisfied: pyparsing!=2.0.4,!=2.1.2,!=2.1.6,>=2.0.1 in d:\\suchitsharma\\anaconda3\\lib\\site-packages (from matplotlib->adversarial-robustness-toolbox) (2.4.6)\n",
      "Requirement already satisfied: kiwisolver>=1.0.1 in d:\\suchitsharma\\anaconda3\\lib\\site-packages (from matplotlib->adversarial-robustness-toolbox) (1.1.0)\n",
      "Note: you may need to restart the kernel to use updated packages.\n"
     ]
    }
   ],
   "source": [
    "\n",
    "pip install adversarial-robustness-toolbox\n"
   ]
  },
  {
   "cell_type": "code",
   "execution_count": 55,
   "metadata": {},
   "outputs": [],
   "source": [
    "#Example 1 adversial machine learning on MNIST dataset using keras\n",
    "#importing necessary modules for examples\n",
    "\n",
    "\n",
    "import keras\n",
    "from keras.callbacks import EarlyStopping, ModelCheckpoint\n",
    "from keras.layers import Activation\n",
    "from keras.datasets import mnist\n",
    "from keras.models import Model\n",
    "\n",
    "from keras.utils.generic_utils import get_custom_objects\n",
    "from tensorflow.python.keras import backend as K\n",
    "from keras.preprocessing.image import array_to_img,img_to_array\n",
    "from keras.layers import Dense, Dropout, Flatten ,Input\n",
    "from keras.layers import Conv2D, MaxPooling2D, Reshape, Add\n",
    "from keras.metrics import categorical_accuracy\n",
    "from keras.regularizers import l1_l2, l2, l1\n",
    "\n",
    "import tensorflow as tf\n",
    "\n",
    "from tensorflow.keras.datasets import mnist, cifar10, cifar100\n",
    "\n",
    "from tensorflow.keras import Sequential\n",
    "from tensorflow.keras.callbacks import LambdaCallback\n",
    "from tensorflow.keras.layers import Conv2D, MaxPooling2D, Dropout, Dense, Flatten, Activation\n",
    "\n",
    "import numpy as np\n",
    "import random\n",
    "\n",
    "import matplotlib.pyplot as plt\n",
    "\n",
    "import warnings\n",
    "warnings.filterwarnings('ignore')\n",
    "from keras.models import load_model\n",
    "\n",
    "from art.config import ART_DATA_PATH\n",
    "from art.utils import load_dataset, get_file\n",
    "from art.classifiers import KerasClassifier\n",
    "from art.attacks import FastGradientMethod\n",
    "from art.attacks import BasicIterativeMethod\n",
    "from art.defences import AdversarialTrainer\n",
    "\n",
    "import numpy as np\n",
    "\n",
    "%matplotlib inline\n",
    "import matplotlib.pyplot as plt\n",
    "\n",
    "(x_train, y_train), (x_test, y_test), min_, max_ = load_dataset('mnist')\n",
    "x_train=x_train[:100]\n",
    "y_train=y_train[:100]\n",
    "x_test=x_test[:100]\n",
    "y_test=y_test[:100]\n",
    "\n"
   ]
  },
  {
   "cell_type": "code",
   "execution_count": 3,
   "metadata": {},
   "outputs": [
    {
     "name": "stdout",
     "output_type": "stream",
     "text": [
      "WARNING:tensorflow:From D:\\SuchitSharma\\anaconda3\\lib\\site-packages\\tensorflow\\python\\ops\\resource_variable_ops.py:435: colocate_with (from tensorflow.python.framework.ops) is deprecated and will be removed in a future version.\n",
      "Instructions for updating:\n",
      "Colocations handled automatically by placer.\n",
      "WARNING:tensorflow:From D:\\SuchitSharma\\anaconda3\\lib\\site-packages\\tensorflow\\python\\ops\\math_ops.py:3066: to_int32 (from tensorflow.python.ops.math_ops) is deprecated and will be removed in a future version.\n",
      "Instructions for updating:\n",
      "Use tf.cast instead.\n",
      "100/100 [==============================] - 0s 628us/step\n",
      "[0.05493432968854904, 1.0]\n",
      "100/100 [==============================] - 0s 658us/step\n",
      "[0.8534701204299927, 0.75]\n"
     ]
    }
   ],
   "source": [
    "\n",
    "#load MNIST dataset\n",
    "(x_train, y_train), (x_test, y_test) = mnist.load_data()\n",
    "\n",
    "#preprocess data\n",
    "x_train = x_train.reshape(-1, 28, 28, 1)\n",
    "x_test = x_test.reshape(-1, 28, 28, 1)\n",
    "\n",
    "x_train=x_train[:100]\n",
    "y_train=y_train[:100]\n",
    "x_test=x_test[:100]\n",
    "y_test=y_test[:100]\n",
    "\n",
    "x_train = x_train.astype('float32')\n",
    "x_test = x_test.astype('float32')\n",
    "x_train=x_train/255.\n",
    "x_test=x_test/255.\n",
    "\n",
    "#converting to whole number labels\n",
    "y_train = keras.utils.to_categorical(y_train, 10)\n",
    "y_test = keras.utils.to_categorical(y_test, 10)\n",
    "\n",
    "#building CNN network for MNIST classification \n",
    "inputs = Input(shape=(28,28,1))\n",
    "net = Conv2D(32, kernel_size=(3, 3),\n",
    "                 activation='relu')(inputs)\n",
    "net = Conv2D(64, kernel_size=(3, 3),\n",
    "                 activation='relu')(net)\n",
    "\n",
    "net = MaxPooling2D(pool_size=(2, 2))(net)\n",
    "net = Dropout(0.25)(net)\n",
    "net = Flatten()(net)\n",
    "net = Dense(128, activation='relu')(net)\n",
    "net = Dropout(0.5)(net)\n",
    "outputs = Dense(10, activation='softmax')(net)\n",
    "\n",
    "\n",
    "#optimizing model \n",
    "mnist_model = Model(inputs=inputs, outputs=outputs, name='classification_model')\n",
    "mnist_model.compile(optimizer='nadam', loss='categorical_crossentropy',metrics=[categorical_accuracy])\n",
    "\n",
    "#train MNIST classifer\n",
    "earlyStop = EarlyStopping(monitor='val_categorical_accuracy', min_delta=0, patience=10, verbose=0, mode='auto',\n",
    "                          baseline=None, restore_best_weights=True)\n",
    "\n",
    "mnist_model.fit(x_train, y_train, batch_size=128, epochs=100, verbose=0, validation_data=(x_test, y_test),\n",
    "               callbacks=[earlyStop])\n",
    "\n",
    "\n",
    "#print model accuracy on training and testing examples\n",
    "print(mnist_model.evaluate(x_train, y_train))\n",
    "print(mnist_model.evaluate(x_test, y_test))\n",
    "\n"
   ]
  },
  {
   "cell_type": "code",
   "execution_count": 56,
   "metadata": {},
   "outputs": [
    {
     "data": {
      "image/png": "[encoded data removed]",
      "text/plain": [
       "<Figure size 432x288 with 1 Axes>"
      ]
     },
     "metadata": {
      "needs_background": "light"
     },
     "output_type": "display_data"
    },
    {
     "name": "stdout",
     "output_type": "stream",
     "text": [
      "[0.00147149 0.01592189 0.00201508 0.22780596 0.00224123 0.66670245\n",
      " 0.00547218 0.00468798 0.07166936 0.00201246]\n"
     ]
    }
   ],
   "source": [
    " \n",
    "#select image to create an adversarial example from\n",
    "img = x_train[0:1]\n",
    "plt.imshow(img.reshape((28,28)),vmin=0., vmax=1.)\n",
    "plt.show()\n",
    "\n",
    "#varify accurate classificaiton\n",
    "prediction = mnist_model.predict(img)[0]\n",
    "print(prediction)\n"
   ]
  },
  {
   "cell_type": "code",
   "execution_count": 57,
   "metadata": {},
   "outputs": [],
   "source": [
    "#The model has highest score for 5"
   ]
  },
  {
   "cell_type": "code",
   "execution_count": 58,
   "metadata": {},
   "outputs": [
    {
     "data": {
      "image/png": "[encoded data removed]",
      "text/plain": [
       "<Figure size 432x288 with 1 Axes>"
      ]
     },
     "metadata": {
      "needs_background": "light"
     },
     "output_type": "display_data"
    },
    {
     "name": "stdout",
     "output_type": "stream",
     "text": [
      "[2.6634997e-03 4.8071896e-03 7.1180821e-03 1.6626906e-01 1.0439336e-02\n",
      " 7.7455735e-01 5.5719190e-03 6.3236882e-03 2.1816235e-02 4.3364134e-04]\n"
     ]
    }
   ],
   "source": [
    "#creating adverarial examples\n",
    "#applying random noise does not fool the classifier\n",
    "quantized_noise = np.round(np.random.normal(loc=0.0, scale=0.3, size=img.shape) * 255.) / 255.\n",
    "noisy_img = np.clip(img + quantized_noise, 0., 1.)\n",
    "plt.imshow(noisy_img.reshape((28,28)),vmin=0., vmax=1.)\n",
    "plt.show()\n",
    "noisy_prediction = mnist_model.predict(noisy_img)[0]\n",
    "\n",
    "#viewing result for generated noisy example \n",
    "print(noisy_prediction)\n"
   ]
  },
  {
   "cell_type": "code",
   "execution_count": 59,
   "metadata": {},
   "outputs": [],
   "source": [
    "#The model is confused and has best scores for 3 and 5."
   ]
  },
  {
   "cell_type": "markdown",
   "metadata": {},
   "source": [
    "Example 2: "
   ]
  },
  {
   "cell_type": "code",
   "execution_count": null,
   "metadata": {},
   "outputs": [],
   "source": [
    "\n",
    "# Adversarial Robustness Toolbox (ART) is an IBM developed tool to address adversarial machine learning. We will demostrate for ART addresses above problems with example codes.  \n",
    "#Using fast gradient method to generate adversarial examples\n",
    "\"\"\"\n",
    "This script is for demonstrating generation of adversarial examples and thier classification with ART classifier on MNIST dataset.\n",
    "\n",
    "\"\"\"\n",
    "#Loading necessary modules\n",
    "\n",
    "from sklearn.svm import SVC\n",
    "import numpy as np\n",
    "from art import *\n",
    "\n",
    "\n",
    "#Fast Gradient Method creates adversarial examples\n",
    "from art.attacks import FastGradientMethod\n",
    "\n",
    "#Classifier from ART compatible with SKlearn is loaded. This classifier can take in a pretrained model. \n",
    "from art.classifiers import SklearnClassifier\n",
    "\n",
    "from matplotlib import pyplot as plt\n",
    "import numpy as np\n"
   ]
  },
  {
   "cell_type": "code",
   "execution_count": null,
   "metadata": {
    "scrolled": true
   },
   "outputs": [],
   "source": [
    "\n",
    "\n",
    "\n",
    "#MNIST data set for training\n",
    "\n",
    "from keras.datasets import mnist\n",
    "\n",
    "\n",
    "from art.utils import load_mnist\n",
    "\n",
    "# Step 1: Load the MNIST dataset\n",
    "\n",
    "(x_train, y_train), (x_test, y_test), min_pixel_value, max_pixel_value = load_mnist()\n",
    "\n",
    "\n",
    "#printing first 5 x_train and y_train label vector to get an overview\n",
    "\n",
    "\n",
    "for i in range(5):\n",
    "    pixels = x_train[i].reshape((28, 28))\n",
    "    plt.imshow(pixels, cmap='gray')\n",
    "    plt.show()\n",
    "    print(y_train[i])\n",
    "\n",
    "#[0. 0. 0. 0. 0. 0. 0. 0. 1. 0.] label means 8 is the number\n"
   ]
  },
  {
   "cell_type": "code",
   "execution_count": null,
   "metadata": {},
   "outputs": [],
   "source": [
    "\n",
    "# Step 1: Flatten dataset to feed into Support vector machine we will train later\n",
    "\n",
    "nb_samples_train = x_train.shape[0]\n",
    "nb_samples_test = x_test.shape[0]\n",
    "x_train = x_train.reshape((nb_samples_train, 28 * 28))\n",
    "x_test = x_test.reshape((nb_samples_test, 28 * 28))\n",
    "\n",
    "\n"
   ]
  },
  {
   "cell_type": "code",
   "execution_count": null,
   "metadata": {},
   "outputs": [],
   "source": [
    "\n",
    "# Step 2: Create the model of support vector machine\n",
    "\n",
    "model = SVC(C=1.0, kernel=\"rbf\")\n",
    "\n",
    "# Step 3: Create the ART classifier\n",
    "\n",
    "classifier = SklearnClassifier(model=model, clip_values=(min_pixel_value, max_pixel_value))\n",
    "\n",
    "# Step 4: Train the ART classifier\n",
    "\n",
    "classifier.fit(x_train, y_train)\n",
    "\n",
    "# Step 5: Evaluate the ART classifier on benign test examples\n",
    "\n",
    "predictions = classifier.predict(x_test)\n",
    "accuracy = np.sum(np.argmax(predictions, axis=1) == np.argmax(y_test, axis=1)) / len(y_test)\n",
    "print(\"Accuracy on benign test examples: {}%\".format(accuracy * 100))\n"
   ]
  },
  {
   "cell_type": "code",
   "execution_count": 18,
   "metadata": {},
   "outputs": [
    {
     "name": "stdout",
     "output_type": "stream",
     "text": [
      "Accuracy on adversarial test examples: 54.26%\n"
     ]
    }
   ],
   "source": [
    "#Generate adversarial examples using fast gradient method\n",
    "\"\"\"\n",
    "The gradient sign method uses the gradient of the underlying model to find adversarial examples. The original image x is manipulated by adding or subtracting a small error  \n",
    "ϵ to each pixel. Whether we add or subtract  \n",
    "ϵ depends on whether the sign of the gradient for a pixel is positive or negative. Adding errors in the direction of the gradient means that the image is intentionally altered so that the model classification fails.\n",
    "\n",
    "The following formula describes the core of the fast gradient sign method:\n",
    "\n",
    "x′=x+ϵ⋅sign(▽xJ(θ,x,y))\n",
    " \n",
    "where  ▽xJ is the gradient of the models loss function with respect to the original input pixel vector x, y is the true label vector for x and θ is the model parameter vector. From the gradient vector (which is as long as the vector of the input pixels) we only need the sign: The sign of the gradient is positive (+1) if an increase in pixel intensity increases the loss (the error the model makes) and negative (-1) if a decrease in pixel intensity increases the loss\n",
    "\"\"\"\n",
    "# Step 6: Generate adversarial test examples\n",
    "attack = FastGradientMethod(classifier=classifier, eps=0.2)\n",
    "x_test_adv = attack.generate(x=x_test)\n",
    "\n",
    "# Step 7: Evaluate the ART classifier on adversarial test examples\n",
    "\n",
    "predictions = classifier.predict(x_test_adv)\n",
    "accuracy = np.sum(np.argmax(predictions, axis=1) == np.argmax(y_test, axis=1)) / len(y_test)\n",
    "print(\"Accuracy on adversarial test examples: {}%\".format(accuracy * 100))\n",
    "\n"
   ]
  },
  {
   "cell_type": "markdown",
   "metadata": {},
   "source": [
    "#Looking post attack images and predictions\n"
   ]
  },
  {
   "cell_type": "code",
   "execution_count": null,
   "metadata": {},
   "outputs": [],
   "source": [
    "for i in range(7):\n",
    "    print(\"Image after fast gradient method attack:\")\n",
    "    pixels = x_test_adv[i].reshape((28, 28))\n",
    "    plt.imshow(pixels, cmap='gray')\n",
    "    plt.show()\n",
    "    print(\"prediction after attack:\", predictions[i])\n",
    "    print(\"----------------------\")\n",
    "\n",
    "    \n",
    "    "
   ]
  },
  {
   "cell_type": "code",
   "execution_count": null,
   "metadata": {},
   "outputs": [],
   "source": [
    "Conclusion: The attack exploits the gradient function of classifier to generate pixel values that severely affect classification accuracy of the model.\n",
    "    "
   ]
  },
  {
   "cell_type": "code",
   "execution_count": 26,
   "metadata": {},
   "outputs": [],
   "source": [
    "#An exhaustive example of adverse machine learning employing above concepts\n",
    "\n",
    "#Train and evaluate a baseline classifier Load the classifier model as another experiment\n",
    "\n",
    "path = get_file('mnist_cnn_original.h5', extract=False, path=ART_DATA_PATH,\n",
    "                url='https://www.dropbox.com/s/p2nyzne9chcerid/mnist_cnn_original.h5?dl=1')\n",
    "classifier_model = load_model(path)\n",
    "classifier = KerasClassifier(clip_values=(min_, max_), model=classifier_model, use_logits=False)\n",
    "\n",
    "\n",
    "\n",
    "\n"
   ]
  },
  {
   "cell_type": "code",
   "execution_count": 27,
   "metadata": {},
   "outputs": [],
   "source": [
    "path = get_file('mnist_cnn_original.h5', extract=False, path=ART_DATA_PATH,\n",
    "                url='https://www.dropbox.com/s/p2nyzne9chcerid/mnist_cnn_original.h5?dl=1')\n",
    "classifier_model = load_model(path)\n",
    "classifier = KerasClassifier(clip_values=(min_, max_), model=classifier_model, use_logits=False)"
   ]
  },
  {
   "cell_type": "code",
   "execution_count": 28,
   "metadata": {},
   "outputs": [
    {
     "name": "stdout",
     "output_type": "stream",
     "text": [
      "Model: \"sequential_4\"\n",
      "_________________________________________________________________\n",
      "Layer (type)                 Output Shape              Param #   \n",
      "=================================================================\n",
      "conv2d_1 (Conv2D)            (None, 26, 26, 32)        320       \n",
      "_________________________________________________________________\n",
      "max_pooling2d_1 (MaxPooling2 (None, 13, 13, 32)        0         \n",
      "_________________________________________________________________\n",
      "conv2d_2 (Conv2D)            (None, 11, 11, 64)        18496     \n",
      "_________________________________________________________________\n",
      "max_pooling2d_2 (MaxPooling2 (None, 5, 5, 64)          0         \n",
      "_________________________________________________________________\n",
      "flatten_1 (Flatten)          (None, 1600)              0         \n",
      "_________________________________________________________________\n",
      "dense_1 (Dense)              (None, 128)               204928    \n",
      "_________________________________________________________________\n",
      "dense_2 (Dense)              (None, 10)                1290      \n",
      "=================================================================\n",
      "Total params: 225,034\n",
      "Trainable params: 225,034\n",
      "Non-trainable params: 0\n",
      "_________________________________________________________________\n"
     ]
    }
   ],
   "source": [
    "#Loading classifier summary\n",
    "classifier_model.summary()"
   ]
  },
  {
   "cell_type": "code",
   "execution_count": 29,
   "metadata": {},
   "outputs": [
    {
     "name": "stdout",
     "output_type": "stream",
     "text": [
      "Original test data (first 100 images):\n",
      "Correctly classified: 100\n",
      "Incorrectly classified: 0\n"
     ]
    }
   ],
   "source": [
    "\n",
    "#Printing results of classifier without adversve example training\n",
    "x_test_pred = np.argmax(classifier.predict(x_test[:100]), axis=1)\n",
    "nb_correct_pred = np.sum(x_test_pred == np.argmax(y_test[:100], axis=1))\n",
    "\n",
    "print(\"Original test data (first 100 images):\")\n",
    "print(\"Correctly classified: {}\".format(nb_correct_pred))\n",
    "print(\"Incorrectly classified: {}\".format(100-nb_correct_pred))"
   ]
  },
  {
   "cell_type": "code",
   "execution_count": 30,
   "metadata": {},
   "outputs": [],
   "source": [
    "\n",
    "#attacking with fast gradient method, epsilon can be changed to affect strength of attack\n",
    "attacker = FastGradientMethod(classifier, eps=0.5)\n",
    "x_test_adv = attacker.generate(x_test[:100])"
   ]
  },
  {
   "cell_type": "code",
   "execution_count": 31,
   "metadata": {},
   "outputs": [
    {
     "name": "stdout",
     "output_type": "stream",
     "text": [
      "Adversarial test data (first 100 images):\n",
      "Correctly classified: 95\n",
      "Incorrectly classified: 5\n"
     ]
    }
   ],
   "source": [
    "#generating classification results\n",
    "x_test_adv_pred = np.argmax(classifier.predict(x_test_adv), axis=1)\n",
    "nb_correct_adv_pred = np.sum(x_test_adv_pred == np.argmax(y_test[:100], axis=1))\n",
    "\n",
    "print(\"Adversarial test data (first 100 images):\")\n",
    "print(\"Correctly classified: {}\".format(nb_correct_adv_pred))\n",
    "print(\"Incorrectly classified: {}\".format(100-nb_correct_adv_pred))"
   ]
  },
  {
   "cell_type": "code",
   "execution_count": 32,
   "metadata": {},
   "outputs": [],
   "source": [
    "#Adversarially train a robust classifier for proofing against adverse data\n",
    "path = get_file('mnist_cnn_robust.h5', extract=False, path=ART_DATA_PATH,\n",
    "                url='https://www.dropbox.com/s/yutsncaniiy5uy8/mnist_cnn_robust.h5?dl=1')\n",
    "robust_classifier_model = load_model(path)\n",
    "robust_classifier = KerasClassifier(clip_values=(min_, max_), model=robust_classifier_model, use_logits=False)"
   ]
  },
  {
   "cell_type": "code",
   "execution_count": 33,
   "metadata": {},
   "outputs": [
    {
     "name": "stdout",
     "output_type": "stream",
     "text": [
      "Model: \"sequential_5\"\n",
      "_________________________________________________________________\n",
      "Layer (type)                 Output Shape              Param #   \n",
      "=================================================================\n",
      "conv2d_3 (Conv2D)            (None, 26, 26, 32)        320       \n",
      "_________________________________________________________________\n",
      "max_pooling2d_3 (MaxPooling2 (None, 13, 13, 32)        0         \n",
      "_________________________________________________________________\n",
      "conv2d_4 (Conv2D)            (None, 11, 11, 64)        18496     \n",
      "_________________________________________________________________\n",
      "max_pooling2d_4 (MaxPooling2 (None, 5, 5, 64)          0         \n",
      "_________________________________________________________________\n",
      "flatten_2 (Flatten)          (None, 1600)              0         \n",
      "_________________________________________________________________\n",
      "dense_3 (Dense)              (None, 1024)              1639424   \n",
      "_________________________________________________________________\n",
      "dense_4 (Dense)              (None, 10)                10250     \n",
      "=================================================================\n",
      "Total params: 1,668,490\n",
      "Trainable params: 1,668,490\n",
      "Non-trainable params: 0\n",
      "_________________________________________________________________\n"
     ]
    }
   ],
   "source": [
    "robust_classifier_model.summary()"
   ]
  },
  {
   "cell_type": "code",
   "execution_count": 34,
   "metadata": {},
   "outputs": [],
   "source": [
    "\n",
    "#Perform adversarial training\n",
    "attacks = BasicIterativeMethod(robust_classifier, eps=0.3, eps_step=0.01, max_iter=40)"
   ]
  },
  {
   "cell_type": "code",
   "execution_count": 35,
   "metadata": {},
   "outputs": [
    {
     "name": "stdout",
     "output_type": "stream",
     "text": [
      "Original test data (first 100 images):\n",
      "Correctly classified: 99\n",
      "Incorrectly classified: 1\n"
     ]
    }
   ],
   "source": [
    "#Evaluate the robust classifier's performance on the original test data:\n",
    "x_test_robust_pred = np.argmax(robust_classifier.predict(x_test[:100]), axis=1)\n",
    "nb_correct_robust_pred = np.sum(x_test_robust_pred == np.argmax(y_test[:100], axis=1))\n",
    "\n",
    "print(\"Original test data (first 100 images):\")\n",
    "print(\"Correctly classified: {}\".format(nb_correct_robust_pred))\n",
    "print(\"Incorrectly classified: {}\".format(100-nb_correct_robust_pred))\n",
    "\n",
    "#We observe better classification score"
   ]
  },
  {
   "cell_type": "code",
   "execution_count": 45,
   "metadata": {},
   "outputs": [],
   "source": [
    "#Evaluate the robust classifier's performance on the adversarial test data (white-box setting)\n",
    "attacker_robust = FastGradientMethod(robust_classifier, eps=0.3)\n",
    "x_test_adv_robust = attacker_robust.generate(x_test[:100])\n"
   ]
  },
  {
   "cell_type": "code",
   "execution_count": 46,
   "metadata": {},
   "outputs": [
    {
     "name": "stdout",
     "output_type": "stream",
     "text": [
      "Adversarial test data (first 100 images):\n",
      "Correctly classified: 99\n",
      "Incorrectly classified: 1\n"
     ]
    }
   ],
   "source": [
    "x_test_adv_robust_pred = np.argmax(robust_classifier.predict(x_test_adv_robust), axis=1)\n",
    "nb_correct_adv_robust_pred = np.sum(x_test_adv_robust_pred == np.argmax(y_test[:100], axis=1))\n",
    "\n",
    "print(\"Adversarial test data (first 100 images):\")\n",
    "print(\"Correctly classified: {}\".format(nb_correct_adv_robust_pred))\n",
    "print(\"Incorrectly classified: {}\".format(100-nb_correct_adv_robust_pred))\n"
   ]
  },
  {
   "cell_type": "code",
   "execution_count": 38,
   "metadata": {},
   "outputs": [],
   "source": [
    "#Compare the performance of the original and the robust classifier over a range of eps values:\n",
    "\n",
    "eps_range = [0.01, 0.02, 0.03, 0.04, 0.05, 0.1, 0.2, 0.3, 0.4, 0.5, 0.6, 0.7, 0.8, 0.9]\n",
    "nb_correct_original = []\n",
    "nb_correct_robust = []\n",
    "\n",
    "for eps in eps_range:\n",
    "    attacker.set_params(**{'eps': eps})\n",
    "    attacker_robust.set_params(**{'eps': eps})\n",
    "    x_test_adv = attacker.generate(x_test[:100])\n",
    "    x_test_adv_robust = attacker_robust.generate(x_test[:100])\n",
    "    \n",
    "    x_test_adv_pred = np.argmax(classifier.predict(x_test_adv), axis=1)\n",
    "    nb_correct_original += [np.sum(x_test_adv_pred == np.argmax(y_test[:100], axis=1))]\n",
    "    \n",
    "    x_test_adv_robust_pred = np.argmax(robust_classifier.predict(x_test_adv_robust), axis=1)\n",
    "    nb_correct_robust += [np.sum(x_test_adv_robust_pred == np.argmax(y_test[:100], axis=1))]\n",
    "\n",
    "eps_range = [0] + eps_range\n",
    "nb_correct_original = [nb_correct_pred] + nb_correct_original\n",
    "nb_correct_robust = [nb_correct_robust_pred] + nb_correct_robust"
   ]
  },
  {
   "cell_type": "code",
   "execution_count": 48,
   "metadata": {},
   "outputs": [
    {
     "data": {
      "image/png": "[encoded data removed]",
      "text/plain": [
       "<Figure size 432x288 with 1 Axes>"
      ]
     },
     "metadata": {
      "needs_background": "light"
     },
     "output_type": "display_data"
    }
   ],
   "source": [
    "fig, ax = plt.subplots()\n",
    "ax.plot(np.array(eps_range), np.array(nb_correct_original), 'b--', label='Original classifier')\n",
    "ax.plot(np.array(eps_range), np.array(nb_correct_robust), 'r--', label='Robust classifier')\n",
    "\n",
    "legend = ax.legend(loc='upper right', shadow=True, fontsize='large')\n",
    "\n",
    "\n",
    "plt.xlabel('Attack strength (eps)')\n",
    "plt.ylabel('Correct predictions per 100')\n",
    "plt.show()\n"
   ]
  },
  {
   "cell_type": "code",
   "execution_count": null,
   "metadata": {},
   "outputs": [],
   "source": []
  }
 ],
 "metadata": {
  "kernelspec": {
   "display_name": "Python 3",
   "language": "python",
   "name": "python3"
  },
  "language_info": {
   "codemirror_mode": {
    "name": "ipython",
    "version": 3
   },
   "file_extension": ".py",
   "mimetype": "text/x-python",
   "name": "python",
   "nbconvert_exporter": "python",
   "pygments_lexer": "ipython3",
   "version": "3.7.6"
  }
 },
 "nbformat": 4,
 "nbformat_minor": 4
}
