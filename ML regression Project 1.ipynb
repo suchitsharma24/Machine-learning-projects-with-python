{
 "cells": [
  {
   "cell_type": "markdown",
   "metadata": {},
   "source": [
    "## Assignment 1\n",
    "\n",
    "### Regression with NumPy\n",
    "In this project, We have to develop a regression model that best fits the data below.\n",
    "\n",
    "All data sets are curated from the UCI Machine Learning repository.\n",
    "\n",
    "- Airfoil Self-Noise: https://archive.ics.uci.edu/ml/datasets/Airfoil+Self-Noise \n",
    "- Yacht Hydrodynamics: https://archive.ics.uci.edu/ml/datasets/Yacht+Hydrodynamics\n",
    "- Concrete Slump: https://archive.ics.uci.edu/ml/datasets/Concrete+Slump+Test"
   ]
  },
  {
   "cell_type": "code",
   "execution_count": 1,
   "metadata": {},
   "outputs": [],
   "source": [
    "# import Pyhton libraries\n",
    "\n",
    "import numpy as np\n",
    "import pandas as pd\n",
    "import matplotlib.pyplot as plt\n",
    "import scipy as stat\n",
    "from sklearn.model_selection import KFold\n",
    "import random\n",
    "import math\n",
    "%matplotlib inline\n",
    "\n",
    "# Import warnings\n",
    "import warnings \n",
    "warnings.filterwarnings('ignore')"
   ]
  },
  {
   "cell_type": "markdown",
   "metadata": {},
   "source": [
    "## Reading data and storing in panda tables"
   ]
  },
  {
   "cell_type": "code",
   "execution_count": 2,
   "metadata": {},
   "outputs": [],
   "source": [
    "# Airfoil Self-Noise data\n",
    "af_df = pd.read_table(\n",
    "    filepath_or_buffer = \"https://archive.ics.uci.edu/ml/machine-learning-databases/00291/airfoil_self_noise.dat\",\n",
    "    names = [\"Frequency\", \"Angle of attack\", \"Chord length\", \"Free-stream velocity\", \n",
    "             \"Suction side displacement\", \"Scaled sound pressure\"])\n",
    "\n",
    "# Yacht Hydrodynamics\n",
    "yh_df = pd.read_table(\n",
    "    filepath_or_buffer = \"https://archive.ics.uci.edu/ml/machine-learning-databases/00243/yacht_hydrodynamics.data\",\n",
    "    names = [\"Longitudinal buoyancy\", \"Prismatic coefficient\", \"Length-displacement\", \"Beam-draught\", \n",
    "             \"Length-beam\", \"Froude number\", \"Residuary resistance\"], delim_whitespace = True)\n",
    "\n",
    "# Concrete Slump\n",
    "cs_df = pd.read_csv(\n",
    "    filepath_or_buffer = \"https://archive.ics.uci.edu/ml/machine-learning-databases/concrete/slump/slump_test.data\",\n",
    "    names = [\"Cement\", \"Slag\", \"Fly ash\", \"Water\", \"SP\", \"Coarse Aggr.\", \"Fine Aggr.\", \"SLUMP\", \"FLOW\",\n",
    "             \"Compressive Strength\"], skiprows = 1)"
   ]
  },
  {
   "cell_type": "markdown",
   "metadata": {},
   "source": [
    "## Now, reading first 5 rows of dataframes"
   ]
  },
  {
   "cell_type": "code",
   "execution_count": 3,
   "metadata": {},
   "outputs": [
    {
     "data": {
      "text/html": [
       "<div>\n",
       "<style scoped>\n",
       "    .dataframe tbody tr th:only-of-type {\n",
       "        vertical-align: middle;\n",
       "    }\n",
       "\n",
       "    .dataframe tbody tr th {\n",
       "        vertical-align: top;\n",
       "    }\n",
       "\n",
       "    .dataframe thead th {\n",
       "        text-align: right;\n",
       "    }\n",
       "</style>\n",
       "<table border=\"1\" class=\"dataframe\">\n",
       "  <thead>\n",
       "    <tr style=\"text-align: right;\">\n",
       "      <th></th>\n",
       "      <th>Frequency</th>\n",
       "      <th>Angle of attack</th>\n",
       "      <th>Chord length</th>\n",
       "      <th>Free-stream velocity</th>\n",
       "      <th>Suction side displacement</th>\n",
       "      <th>Scaled sound pressure</th>\n",
       "    </tr>\n",
       "  </thead>\n",
       "  <tbody>\n",
       "    <tr>\n",
       "      <th>0</th>\n",
       "      <td>800</td>\n",
       "      <td>0.0</td>\n",
       "      <td>0.3048</td>\n",
       "      <td>71.3</td>\n",
       "      <td>0.002663</td>\n",
       "      <td>126.201</td>\n",
       "    </tr>\n",
       "    <tr>\n",
       "      <th>1</th>\n",
       "      <td>1000</td>\n",
       "      <td>0.0</td>\n",
       "      <td>0.3048</td>\n",
       "      <td>71.3</td>\n",
       "      <td>0.002663</td>\n",
       "      <td>125.201</td>\n",
       "    </tr>\n",
       "    <tr>\n",
       "      <th>2</th>\n",
       "      <td>1250</td>\n",
       "      <td>0.0</td>\n",
       "      <td>0.3048</td>\n",
       "      <td>71.3</td>\n",
       "      <td>0.002663</td>\n",
       "      <td>125.951</td>\n",
       "    </tr>\n",
       "    <tr>\n",
       "      <th>3</th>\n",
       "      <td>1600</td>\n",
       "      <td>0.0</td>\n",
       "      <td>0.3048</td>\n",
       "      <td>71.3</td>\n",
       "      <td>0.002663</td>\n",
       "      <td>127.591</td>\n",
       "    </tr>\n",
       "    <tr>\n",
       "      <th>4</th>\n",
       "      <td>2000</td>\n",
       "      <td>0.0</td>\n",
       "      <td>0.3048</td>\n",
       "      <td>71.3</td>\n",
       "      <td>0.002663</td>\n",
       "      <td>127.461</td>\n",
       "    </tr>\n",
       "  </tbody>\n",
       "</table>\n",
       "</div>"
      ],
      "text/plain": [
       "   Frequency  Angle of attack  Chord length  Free-stream velocity  \\\n",
       "0        800              0.0        0.3048                  71.3   \n",
       "1       1000              0.0        0.3048                  71.3   \n",
       "2       1250              0.0        0.3048                  71.3   \n",
       "3       1600              0.0        0.3048                  71.3   \n",
       "4       2000              0.0        0.3048                  71.3   \n",
       "\n",
       "   Suction side displacement  Scaled sound pressure  \n",
       "0                   0.002663                126.201  \n",
       "1                   0.002663                125.201  \n",
       "2                   0.002663                125.951  \n",
       "3                   0.002663                127.591  \n",
       "4                   0.002663                127.461  "
      ]
     },
     "execution_count": 3,
     "metadata": {},
     "output_type": "execute_result"
    }
   ],
   "source": [
    "af_df.head()"
   ]
  },
  {
   "cell_type": "code",
   "execution_count": 4,
   "metadata": {},
   "outputs": [
    {
     "data": {
      "text/html": [
       "<div>\n",
       "<style scoped>\n",
       "    .dataframe tbody tr th:only-of-type {\n",
       "        vertical-align: middle;\n",
       "    }\n",
       "\n",
       "    .dataframe tbody tr th {\n",
       "        vertical-align: top;\n",
       "    }\n",
       "\n",
       "    .dataframe thead th {\n",
       "        text-align: right;\n",
       "    }\n",
       "</style>\n",
       "<table border=\"1\" class=\"dataframe\">\n",
       "  <thead>\n",
       "    <tr style=\"text-align: right;\">\n",
       "      <th></th>\n",
       "      <th>Longitudinal buoyancy</th>\n",
       "      <th>Prismatic coefficient</th>\n",
       "      <th>Length-displacement</th>\n",
       "      <th>Beam-draught</th>\n",
       "      <th>Length-beam</th>\n",
       "      <th>Froude number</th>\n",
       "      <th>Residuary resistance</th>\n",
       "    </tr>\n",
       "  </thead>\n",
       "  <tbody>\n",
       "    <tr>\n",
       "      <th>0</th>\n",
       "      <td>-2.3</td>\n",
       "      <td>0.568</td>\n",
       "      <td>4.78</td>\n",
       "      <td>3.99</td>\n",
       "      <td>3.17</td>\n",
       "      <td>0.125</td>\n",
       "      <td>0.11</td>\n",
       "    </tr>\n",
       "    <tr>\n",
       "      <th>1</th>\n",
       "      <td>-2.3</td>\n",
       "      <td>0.568</td>\n",
       "      <td>4.78</td>\n",
       "      <td>3.99</td>\n",
       "      <td>3.17</td>\n",
       "      <td>0.150</td>\n",
       "      <td>0.27</td>\n",
       "    </tr>\n",
       "    <tr>\n",
       "      <th>2</th>\n",
       "      <td>-2.3</td>\n",
       "      <td>0.568</td>\n",
       "      <td>4.78</td>\n",
       "      <td>3.99</td>\n",
       "      <td>3.17</td>\n",
       "      <td>0.175</td>\n",
       "      <td>0.47</td>\n",
       "    </tr>\n",
       "    <tr>\n",
       "      <th>3</th>\n",
       "      <td>-2.3</td>\n",
       "      <td>0.568</td>\n",
       "      <td>4.78</td>\n",
       "      <td>3.99</td>\n",
       "      <td>3.17</td>\n",
       "      <td>0.200</td>\n",
       "      <td>0.78</td>\n",
       "    </tr>\n",
       "    <tr>\n",
       "      <th>4</th>\n",
       "      <td>-2.3</td>\n",
       "      <td>0.568</td>\n",
       "      <td>4.78</td>\n",
       "      <td>3.99</td>\n",
       "      <td>3.17</td>\n",
       "      <td>0.225</td>\n",
       "      <td>1.18</td>\n",
       "    </tr>\n",
       "  </tbody>\n",
       "</table>\n",
       "</div>"
      ],
      "text/plain": [
       "   Longitudinal buoyancy  Prismatic coefficient  Length-displacement  \\\n",
       "0                   -2.3                  0.568                 4.78   \n",
       "1                   -2.3                  0.568                 4.78   \n",
       "2                   -2.3                  0.568                 4.78   \n",
       "3                   -2.3                  0.568                 4.78   \n",
       "4                   -2.3                  0.568                 4.78   \n",
       "\n",
       "   Beam-draught  Length-beam  Froude number  Residuary resistance  \n",
       "0          3.99         3.17          0.125                  0.11  \n",
       "1          3.99         3.17          0.150                  0.27  \n",
       "2          3.99         3.17          0.175                  0.47  \n",
       "3          3.99         3.17          0.200                  0.78  \n",
       "4          3.99         3.17          0.225                  1.18  "
      ]
     },
     "execution_count": 4,
     "metadata": {},
     "output_type": "execute_result"
    }
   ],
   "source": [
    "yh_df.head()"
   ]
  },
  {
   "cell_type": "code",
   "execution_count": 5,
   "metadata": {},
   "outputs": [
    {
     "data": {
      "text/html": [
       "<div>\n",
       "<style scoped>\n",
       "    .dataframe tbody tr th:only-of-type {\n",
       "        vertical-align: middle;\n",
       "    }\n",
       "\n",
       "    .dataframe tbody tr th {\n",
       "        vertical-align: top;\n",
       "    }\n",
       "\n",
       "    .dataframe thead th {\n",
       "        text-align: right;\n",
       "    }\n",
       "</style>\n",
       "<table border=\"1\" class=\"dataframe\">\n",
       "  <thead>\n",
       "    <tr style=\"text-align: right;\">\n",
       "      <th></th>\n",
       "      <th>Cement</th>\n",
       "      <th>Slag</th>\n",
       "      <th>Fly ash</th>\n",
       "      <th>Water</th>\n",
       "      <th>SP</th>\n",
       "      <th>Coarse Aggr.</th>\n",
       "      <th>Fine Aggr.</th>\n",
       "      <th>SLUMP</th>\n",
       "      <th>FLOW</th>\n",
       "      <th>Compressive Strength</th>\n",
       "    </tr>\n",
       "  </thead>\n",
       "  <tbody>\n",
       "    <tr>\n",
       "      <th>1</th>\n",
       "      <td>273.0</td>\n",
       "      <td>82.0</td>\n",
       "      <td>105.0</td>\n",
       "      <td>210.0</td>\n",
       "      <td>9.0</td>\n",
       "      <td>904.0</td>\n",
       "      <td>680.0</td>\n",
       "      <td>23.0</td>\n",
       "      <td>62.0</td>\n",
       "      <td>34.99</td>\n",
       "    </tr>\n",
       "    <tr>\n",
       "      <th>2</th>\n",
       "      <td>163.0</td>\n",
       "      <td>149.0</td>\n",
       "      <td>191.0</td>\n",
       "      <td>180.0</td>\n",
       "      <td>12.0</td>\n",
       "      <td>843.0</td>\n",
       "      <td>746.0</td>\n",
       "      <td>0.0</td>\n",
       "      <td>20.0</td>\n",
       "      <td>41.14</td>\n",
       "    </tr>\n",
       "    <tr>\n",
       "      <th>3</th>\n",
       "      <td>162.0</td>\n",
       "      <td>148.0</td>\n",
       "      <td>191.0</td>\n",
       "      <td>179.0</td>\n",
       "      <td>16.0</td>\n",
       "      <td>840.0</td>\n",
       "      <td>743.0</td>\n",
       "      <td>1.0</td>\n",
       "      <td>20.0</td>\n",
       "      <td>41.81</td>\n",
       "    </tr>\n",
       "    <tr>\n",
       "      <th>4</th>\n",
       "      <td>162.0</td>\n",
       "      <td>148.0</td>\n",
       "      <td>190.0</td>\n",
       "      <td>179.0</td>\n",
       "      <td>19.0</td>\n",
       "      <td>838.0</td>\n",
       "      <td>741.0</td>\n",
       "      <td>3.0</td>\n",
       "      <td>21.5</td>\n",
       "      <td>42.08</td>\n",
       "    </tr>\n",
       "    <tr>\n",
       "      <th>5</th>\n",
       "      <td>154.0</td>\n",
       "      <td>112.0</td>\n",
       "      <td>144.0</td>\n",
       "      <td>220.0</td>\n",
       "      <td>10.0</td>\n",
       "      <td>923.0</td>\n",
       "      <td>658.0</td>\n",
       "      <td>20.0</td>\n",
       "      <td>64.0</td>\n",
       "      <td>26.82</td>\n",
       "    </tr>\n",
       "  </tbody>\n",
       "</table>\n",
       "</div>"
      ],
      "text/plain": [
       "   Cement   Slag  Fly ash  Water    SP  Coarse Aggr.  Fine Aggr.  SLUMP  FLOW  \\\n",
       "1   273.0   82.0    105.0  210.0   9.0         904.0       680.0   23.0  62.0   \n",
       "2   163.0  149.0    191.0  180.0  12.0         843.0       746.0    0.0  20.0   \n",
       "3   162.0  148.0    191.0  179.0  16.0         840.0       743.0    1.0  20.0   \n",
       "4   162.0  148.0    190.0  179.0  19.0         838.0       741.0    3.0  21.5   \n",
       "5   154.0  112.0    144.0  220.0  10.0         923.0       658.0   20.0  64.0   \n",
       "\n",
       "   Compressive Strength  \n",
       "1                 34.99  \n",
       "2                 41.14  \n",
       "3                 41.81  \n",
       "4                 42.08  \n",
       "5                 26.82  "
      ]
     },
     "execution_count": 5,
     "metadata": {},
     "output_type": "execute_result"
    }
   ],
   "source": [
    "cs_df.head()"
   ]
  },
  {
   "cell_type": "markdown",
   "metadata": {},
   "source": [
    "## Question 1\n",
    "\n",
    "1) Develop a function with the following first line:\n",
    "\n",
    "def my_regression(trainX, testX, noutputs)\n",
    "\n",
    "The input variables are:\n",
    "\n",
    "- trainX - an [ntrain x (nfeature + noutputs)] array that contains the features in the first 'nfeature' columns and the outputs in the last 'noutput' columns\n",
    "- testX - an [ntest x nfeature] array of test data for which the predictions are made\n",
    "    noutputs - the number of output columns in trainX\n",
    "\n",
    "The output should be an [ntest x noutputs] array, which contains the prediction values for the testX data. You can use these data to then calculate squared error by comparing against the testX outputs.\n",
    "\n",
    "Your my_regression code should do some kind of cross-validation to determine the right model for the training data, e.g., linear vs. polynomial vs. radial basis functions (your choice). Then this model is applied to the test data to make a prediction.\n",
    "\n",
    "Rules:\n",
    "\n",
    "- Your code should not use any regression library, but can use NumPy as this will be useful for array handling.\n",
    "    No other inputs to this function are allowed.\n",
    "- You may not use the testX data to train your model. Notice that outputs are not passed in for testing data.\n",
    "- Your code can perform data scaling (scaling features to the interval [0,1] or z-score scaling), can use any   basis functions you want, cross-validation on the training data, regularization, and model selection.\n"
   ]
  },
  {
   "cell_type": "code",
   "execution_count": 6,
   "metadata": {},
   "outputs": [],
   "source": [
    "class DataProcessing:\n",
    "    \"\"\"first of all, lets process the data by normalizing, \n",
    "    splitting into train and test, and cross-validate. I am performing all these data proceesing \n",
    "    on the pandas DataFrame\n",
    "    \n",
    "    Arguments:\n",
    "        First step : Pandas dataframe that need to processed\n",
    "    \"\"\"\n",
    "    \n",
    "    def __init__(self):\n",
    "        \"\"\"Initialize class variable using \n",
    "        the self or class objects\n",
    "        \n",
    "        Arguments:\n",
    "            None\n",
    "        Returns:\n",
    "             None, simply provide pass\n",
    "        \"\"\"\n",
    "        pass\n",
    "    \n",
    "    def z_score_norm(self, data):\n",
    "        \"\"\"z-score is used to normalize data\n",
    "        \n",
    "        method used z-score normalization\n",
    "        \n",
    "        Arguments:\n",
    "        Data to be normalized\n",
    "            \n",
    "        Returns:\n",
    "            Normalized data in DataFrame\n",
    "        \"\"\"\n",
    "        # Following formula uses mean and standrand deviation for the normalization\n",
    "        norm_df = (data - data.mean()) / data.std()\n",
    "        return pd.DataFrame(norm_df)\n",
    "    \n",
    "    def train_test_split(self, data, cut_at = 0.75):\n",
    "        \"\"\" Splitting of data into train and test set\n",
    "        \n",
    "        pythons 'frac=cut_at' value splits the data into two parts as train \n",
    "        and test data. The cut_at value is a percentage of data in the training \n",
    "        set and rest in the test set\n",
    "\n",
    "                \n",
    "        Returns:\n",
    "            train: Training set of the data at cut_at value \n",
    "            test: Testing set of the data\n",
    "        \"\"\"\n",
    "        # train, test splitting\n",
    "        train = data.sample(frac = cut_at, random_state = 200)\n",
    "        test = data.drop(train.index)\n",
    "        return train, test\n",
    "    \n",
    "    def pred_target_split(self, data, noutputs = 1):\n",
    "        \"\"\" This function separates Predictors and output variables \n",
    "        in padas DataFrame\n",
    "        \n",
    "        dependent and indepent variables in the Dataframe are to be separated as \n",
    "        predictors and target assuming the target variable is in the last column.\n",
    "\n",
    "         Arguments:\n",
    "            data: Pandas Dataframe to be split into Predictors and target\n",
    "            noutputs: Number of output variables in the dataset.\n",
    "            \n",
    "        Returns:\n",
    "            predictors: Dependent variables \n",
    "            output: target variable (last column=-1)\n",
    "        \"\"\"\n",
    "        # selecting predictors\n",
    "        predictors = data.iloc[:, 0:-noutputs]\n",
    "        # selecting target\n",
    "        outputs = data.iloc[:, -noutputs:]\n",
    "        return predictors, outputs\n",
    "    \n",
    "    def cross_val(self,data):\n",
    "      \n",
    "        \"\"\" Cross-validation \n",
    "        This function splits data into K number of groups \n",
    "     \n",
    "        Arguments:\n",
    "            data: K-fold cross validation on data\n",
    "            k: Number of folds. we will be using 5- fold cross validation\n",
    "            \n",
    "        Returns:\n",
    "            index: Row index for each data in the set of the folds\n",
    "        \"\"\"\n",
    "        # Creating K-Fold cross validation index.\n",
    "        kf = KFold(n_splits=5, random_state=None, shuffle=False)\n",
    "        nf =kf.split(data)\n",
    "        return nf"
   ]
  },
  {
   "cell_type": "markdown",
   "metadata": {},
   "source": [
    "### Now I am creating Regression class in which I will define Regression function\n"
   ]
  },
  {
   "cell_type": "code",
   "execution_count": 7,
   "metadata": {},
   "outputs": [],
   "source": [
    "class Regression:\n",
    "    \"\"\" This class will be used to perform regression algorithm on data\n",
    "    \n",
    "    I will call 'DataProcessing class to process the data before appling \n",
    "    regression. \n",
    "    \n",
    "    Here, I will use two different kinds of basisfunctons: linear and Guassian\n",
    "    on training and test data with different values of lamda to select best model \n",
    "    after k-fold cross validation which has least mean square error value.\n",
    "\n",
    "    \"\"\"\n",
    "    \n",
    "    # Creating the data Processing object for training data\n",
    "    data_process = DataProcessing()\n",
    "    \n",
    "    def __init__(self, k_fold = 5):\n",
    "        self.k_fold = k_fold\n",
    "        self.lamda_values = [0, 0.0001, 0.001, 0.01, 0.1, 0, 1, 10, 100]\n",
    "        self.kernels = [\"linear\", \"gaussian\"]\n",
    "        self.parameters_list = []\n",
    "        self.n_points = 10\n",
    "        self.model_param = []\n",
    "        \n",
    "    def lmse(self, actual, pred):\n",
    "        \"\"\" Find the Prediction LMSE\n",
    "        \n",
    "        LMSE -  Least Mean Square Error is the average squared difference \n",
    "        between the prediction and actual values. The inputs are actual and \n",
    "        predicted values that outputs the LMSE rounded off to two digits.\n",
    "        \n",
    "        Arguments:\n",
    "            actual: Actual value from the dataset. continuous value.\n",
    "            pred: Predicted value for the data. continuous value.\n",
    "            \n",
    "        Returns:\n",
    "            lmse: Least Mean Square Error value\n",
    "        \"\"\"\n",
    "        # Computing the LMSE and rounding of to two digits\n",
    "        lmse = round(np.sum((actual - pred) ** 2) / len(actual), 2)\n",
    "        return lmse\n",
    "\n",
    "    def gauss_kernel(self, data, n_points = 10):\n",
    "        \"\"\" Apply gaussian function on the data \n",
    "        \n",
    "        Dataset with x feature vector is passed over the n - gaussian function that\n",
    "        is computed using random pick of observation from the dataset and converted \n",
    "        into n feauture vectors from x features. This makes the data to be around your\n",
    "        n data points you selected.\n",
    "        \n",
    "        Arguments:\n",
    "            data: Data to be changed into gaussian form\n",
    "            n_points: Number of gaussian kernels/functions/points to refine into\n",
    "        \n",
    "        Returns:\n",
    "            gaussian: N feature vectors represetation of the input dataset.\n",
    "        \"\"\"\n",
    "        # Set the sigma value to be no. of original features\n",
    "        sigma = data.shape[1]\n",
    "        # Setting the random seed and sampling the points from the data\n",
    "        random.seed(100)\n",
    "        points = random.sample(list(data.index), n_points)\n",
    "        # Initialize the gaussian kernel feature vector\n",
    "        gaussian = np.zeros((data.shape[0], n_points))\n",
    "        col = 0\n",
    "        # Iterate through the n points to come up with n gaussian feauture vectors\n",
    "        for point in points:\n",
    "            gaussian[:, col] = np.exp(-np.linalg.norm(data - data.loc[point, :], 2, axis = 1) ** 2 \n",
    "                                      / (2. * sigma ** 2))\n",
    "            col += 1\n",
    "        return gaussian\n",
    "    \n",
    "    def cv_fit(self, x_train, y_train, k_fold):\n",
    "        \"\"\" Model Selection using Cross validation\n",
    "        \n",
    "        Selecting the best fit regression model and hyper parameters such \n",
    "        as lamda and basis functions using cross validation on the feauture \n",
    "        vectors and our output variable(s) and linear regression's closed\n",
    "        form solution.\n",
    "        \n",
    "        Arguments:\n",
    "            x_train: Predictors of the Training set\n",
    "            y_train: Output of the Training set\n",
    "            k_fold: Number of fold for the cross validation\n",
    "            \n",
    "        Returns:\n",
    "            model_param: A dictinoary consists of selected model weights, \n",
    "                lamda value, lmse value, and kernel functions\n",
    "        \"\"\"\n",
    "        \n",
    "        # Initialize variables \n",
    "        weights = np.zeros((x_train.shape[1],))\n",
    "        best_weights = weights\n",
    "        identity = np.identity(x_train.shape[1])\n",
    "        best_lmse = float(\"inf\")\n",
    "        best_lamda = 0.\n",
    "        best_kernel = \"\"\n",
    "                \n",
    "        # Looping through the basis function\n",
    "        for kernel in self.kernels:\n",
    "            # Chacking the Gaussian function\n",
    "            if kernel is \"gaussian\":\n",
    "                x_train = self.gauss_kernel(pd.DataFrame(x_train), self.n_points)\n",
    "                identity = np.identity(x_train.shape[1])\n",
    "            # Looping through Lamda\n",
    "            for lamda in self.lamda_values:\n",
    "                lmse = 0\n",
    "                for train_index, test_index in self.data_process.cross_val(data=x_train):\n",
    "                    # Split up the train and test for each iteration\n",
    "                    x_train_index = x_train[train_index]\n",
    "                    y_train_index = y_train[train_index]\n",
    "                    x_test_index = x_train[test_index]\n",
    "                    y_test_index = y_train[test_index]\n",
    "                    # Closed form solution for each lamda values\n",
    "                    inverse = np.linalg.inv(lamda*identity + np.dot(x_train_index.T, x_train_index))\n",
    "                    data_term = np.dot(x_train_index.T, y_train_index)\n",
    "                    weights = np.dot(inverse, data_term)\n",
    "                    # Predict with the test set\n",
    "                    prediction = np.dot(x_test_index, weights)\n",
    "                    # Find the LMSE value for the set\n",
    "                    lmse += (np.sum((y_test_index - prediction) ** 2) / len(y_test_index))\n",
    "                # LMSE for each lamda\n",
    "                lmse = lmse / k_fold\n",
    "                # Preparing the parameter list for further analysis\n",
    "                # Storing the result in class variable\n",
    "                parameters = {'basis_function': kernel, \n",
    "                              'lamda': lamda,\n",
    "                              'lmse': lmse,\n",
    "                              'weights': weights}\n",
    "                self.parameters_list.append(parameters)\n",
    "                # Update the best parameters\n",
    "                if best_lmse > lmse:\n",
    "                    best_lmse = lmse\n",
    "                    best_lamda = lamda\n",
    "                    best_weights = weights\n",
    "                    best_kernel = kernel \n",
    "        model_param = {\"weights\": best_weights, \"kernel\": best_kernel, \"lamda\": best_lamda, \"lmse\": best_lmse}\n",
    "        self.model_param.append(model_param)\n",
    "        return model_param\n",
    "\n",
    "    def my_regression(self, trainX, testX, noutputs):\n",
    "        \"\"\" Make Prediction for continuous output(s)\n",
    "        \n",
    "        Takes training set and performs cross validation to select the best \n",
    "        parameter (lamda value of the closed form solution, basis function) \n",
    "        for the model selection and use that model on the testing set to \n",
    "        output the prediction for the testing data.\n",
    "        \n",
    "        Arguments:\n",
    "            trainX - an [ntrain x (nfeature + noutputs)] array that contains\n",
    "                the features in the first 'nfeature' columns and the outputs \n",
    "                in the last 'noutput' columns\n",
    "            testX - an [ntest x nfeature] array of test data for which the \n",
    "                predictions are made\n",
    "            noutputs - the number of output columns in trainX\n",
    "            \n",
    "        Returns:\n",
    "            prediction: [ntest x noutputs] array, which contains the prediction \n",
    "                values for the testX data\n",
    "        \"\"\"        \n",
    "        # Normalize the train and test data\n",
    "        trainX.iloc[:, 0:-noutputs] = self.data_process.z_score_norm(trainX.iloc[:, 0:-noutputs])\n",
    "        testX = self.data_process.z_score_norm(testX)        \n",
    "        # Split the train data into predictors and target variables\n",
    "        x_train, y_train = self.data_process.pred_target_split(trainX, noutputs = noutputs)              \n",
    "        # Include the bias term in the feature vector at the last\n",
    "        x_train[\"bias\"] = 1\n",
    "        testX[\"bias\"] = 1\n",
    "        # Convert Dataframe to Numpy array\n",
    "        x_train = x_train.values\n",
    "        y_train = y_train.values \n",
    "        # Intializing the prediction array with zeros\n",
    "        prediction = np.zeros((testX.shape[0], noutputs)) \n",
    "        # Get the best fit for the data with cross validation\n",
    "        model = self.cv_fit(x_train, y_train, self.k_fold)\n",
    "        # Check if the kernel is gaussian\n",
    "        if model[\"kernel\"] is \"gaussian\":\n",
    "            # Redefine in gaussian feature\n",
    "            gaus = self.gauss_kernel(pd.DataFrame(np.concatenate((x_train, testX.values))),\n",
    "                                                self.n_points)\n",
    "            x_train_gaus = gaus[0:len(x_train), :]  \n",
    "            x_test_gaus = gaus[len(x_train):, :]\n",
    "            # Initialize the identity matrix\n",
    "            identity = np.identity(x_train_gaus.shape[1])\n",
    "            # Train with the whole training data\n",
    "            inverse = np.linalg.inv(model[\"lamda\"] * identity + np.dot(x_train_gaus.T, x_train_gaus))\n",
    "            data_term = np.dot(x_train_gaus.T, y_train)\n",
    "            weights = np.dot(inverse, data_term)\n",
    "            # Predict with the test data\n",
    "            # Inverse/rescale for the z-score norm\n",
    "            prediction = np.dot(x_test_gaus, weights)\n",
    "        else:\n",
    "            # Initialize the identity matrix\n",
    "            identity = np.identity(x_train.shape[1])\n",
    "            # Train with the whole training data\n",
    "            inverse = np.linalg.inv(model[\"lamda\"] * identity + np.dot(x_train.T, x_train))\n",
    "            data_term = np.dot(x_train.T, y_train)\n",
    "            weights = np.dot(inverse, data_term)\n",
    "            # Predict with the test data\n",
    "            # Inverse/rescale for the z-score norm\n",
    "            prediction = np.dot(testX.values, weights)\n",
    "        return prediction"
   ]
  },
  {
   "cell_type": "markdown",
   "metadata": {},
   "source": [
    "#### Above we had our main two classes that contains the function needed for calculating the regression using numpy packages. Let's use those find the prediction for each dataset one by one."
   ]
  },
  {
   "cell_type": "markdown",
   "metadata": {},
   "source": [
    "## Airfoil Dataset"
   ]
  },
  {
   "cell_type": "code",
   "execution_count": 27,
   "metadata": {},
   "outputs": [
    {
     "data": {
      "text/plain": [
       "array([127.34256635, 117.65478988, 126.02355432, 125.52571026,\n",
       "       125.18932913, 113.41598966, 125.02725354, 123.6144528 ,\n",
       "       123.82806376, 123.1553015 , 126.36411613, 126.027735  ,\n",
       "       122.3275426 , 116.94544455, 124.02914816, 123.49093836,\n",
       "       123.22183346, 121.20354669, 120.32895576, 119.18525993,\n",
       "       116.09055355, 113.80316189, 126.43049669, 126.29594424,\n",
       "       125.89228689, 125.28680086, 124.27765748, 122.73030429,\n",
       "       113.51346139, 123.26336537, 119.56317297, 117.07395263,\n",
       "       122.44636457, 119.6207631 , 114.50776996, 125.78040263,\n",
       "       125.60548444, 125.10764037, 124.30032566, 121.07106684,\n",
       "       112.99791978, 109.6341085 , 122.8420764 , 122.41823617,\n",
       "       119.90210534, 119.02751441, 129.56489827, 129.0939647 ,\n",
       "       128.55575489, 127.0084017 , 125.86470587, 128.62560931,\n",
       "       127.54918971, 127.0109799 , 127.28436514, 127.05562598,\n",
       "       125.44099656, 124.76823431, 121.40442303, 126.91650822,\n",
       "       126.80213863, 129.65400316, 128.64485977, 127.09074192,\n",
       "       123.39054952, 126.64938836, 124.49654914, 122.94919595,\n",
       "       118.71079375, 125.03861431, 124.2312996 , 115.90243985,\n",
       "       102.44719475, 127.11803248, 122.4086967 , 121.06317219,\n",
       "       125.51238566, 125.33746748, 124.83962341, 122.82133664,\n",
       "       125.02922951, 127.79708913, 127.56834996, 127.29924506,\n",
       "       125.95372055, 123.26267153, 124.35895251, 124.08984761,\n",
       "       121.19696991, 120.05327408, 116.9585677 , 125.89121546,\n",
       "       124.81479585, 118.49083065, 124.90049962, 123.97881533,\n",
       "       123.6424342 , 121.96052856, 123.259106  , 120.23167585,\n",
       "       121.83210228, 120.52694351, 119.98873371, 115.95216017,\n",
       "       131.92598125, 130.71500919, 129.84041826, 128.69672243,\n",
       "       127.35119792, 120.62357537, 117.25976409, 121.7735896 ,\n",
       "       130.12615919, 128.50490743, 127.49576404, 121.71000865,\n",
       "       131.79813305, 130.18350364, 129.51074139, 127.49245462,\n",
       "       124.39774825, 129.0670204 , 128.89210221, 126.37597138,\n",
       "       124.35768461, 116.28453755, 130.8729449 , 127.30730495,\n",
       "       129.43369379, 128.89548399, 125.73350139, 124.58980555,\n",
       "       121.49509918, 119.20770751, 127.81690956, 127.27869976,\n",
       "       126.67321373, 125.66407035, 119.87831495, 126.67911056,\n",
       "       126.4503714 , 123.2883888 , 120.79916845, 129.70404708,\n",
       "       128.08941767, 124.86015884, 116.78701178, 126.50337171,\n",
       "       125.85079233, 125.58168742, 124.23616291, 122.68880973,\n",
       "       113.47196683, 126.33294181, 126.10420264, 125.02778303,\n",
       "       122.94222004, 121.79852421, 125.13010805, 125.06283182,\n",
       "       124.86100315, 124.05368844, 120.01711491, 123.17859202,\n",
       "       119.20929472, 121.28127924, 118.11929665, 113.88089444,\n",
       "       120.85630467, 120.76884557, 120.51992354, 115.81058775,\n",
       "       114.46506324, 112.71588138, 116.09406875, 115.89224007,\n",
       "       107.95364546, 136.53174938, 135.72443468, 132.49517585,\n",
       "       124.42202879, 133.66325917, 132.99049692, 130.97221015,\n",
       "       129.62668564, 133.47476909, 132.12924458, 126.34348918,\n",
       "       123.29298209, 130.72693105, 125.34483301, 131.36205054,\n",
       "       128.80555397, 124.56715177, 131.64807645, 128.41881763,\n",
       "       131.5827859 , 131.40786771, 131.17912855, 128.01714595,\n",
       "       130.15210879, 129.84263815, 128.53747937, 127.21491021,\n",
       "       124.52386119, 130.9406704 , 130.6715655 , 130.13335569,\n",
       "       129.52786966, 125.82767726, 127.14816265, 126.91942349,\n",
       "       122.61374505, 122.07855277, 118.9838464 , 125.38750524,\n",
       "       123.65850624, 117.33454105, 123.83218222, 123.56307732,\n",
       "       123.42852487, 117.37366457, 122.37068633, 122.14194717,\n",
       "       121.53646114, 124.04012153, 123.79119949, 123.61628131,\n",
       "       123.11843724, 122.31112253, 121.77291273, 120.74495077,\n",
       "       120.59021545, 120.47584587, 120.16637523, 117.65024439,\n",
       "       134.60974383, 132.12052349, 130.37134162, 117.31975387,\n",
       "       133.10411702, 125.03096996, 133.35172967, 131.66982404,\n",
       "       113.50524315, 133.52080918, 128.63350029, 121.90587774,\n",
       "       118.54206647, 133.15360492, 132.97868673, 131.67352795,\n",
       "       129.58796496, 128.44426913, 120.37112207, 132.21506672,\n",
       "       131.38084152, 130.37169814, 127.68064912, 133.12084742,\n",
       "       127.73874938, 125.98956752, 132.3881494 , 130.23531018,\n",
       "       130.69582741, 130.29217006, 125.98649162, 130.05109855,\n",
       "       129.9165461 , 129.74162791, 129.51288874, 127.89825933,\n",
       "       123.8616858 , 130.77778599, 130.50868109, 129.70136638,\n",
       "       121.09000952, 127.98980293, 127.81488474, 127.58614558,\n",
       "       127.31704068, 124.42416298, 123.28046715, 115.20732008,\n",
       "       128.49230254, 127.65807735, 127.18714377, 125.10158078,\n",
       "       120.86317857, 118.5757869 , 127.31760091, 127.20323133,\n",
       "       126.66502152, 126.05953549, 125.58860191, 125.83304119,\n",
       "       125.67830587, 125.56393629, 125.42938384, 125.02572648,\n",
       "       122.73833482, 121.86374389, 119.37452354, 124.72914789,\n",
       "       123.58545206, 122.57630867, 126.01213549, 125.20482078,\n",
       "       123.85929627, 121.16824725, 118.07354088, 115.78614921,\n",
       "       122.98085743, 121.09712312, 135.12339211, 133.81823333,\n",
       "       132.60726127, 131.73267034, 130.58897451, 122.51582745,\n",
       "       133.35680487, 129.05112644, 123.6690284 , 120.97797938,\n",
       "       117.61416811, 131.53439898, 122.11572741, 129.96103882,\n",
       "       128.75006676, 123.63707363, 133.1891168 , 127.80701876,\n",
       "       132.13660529, 129.62047446, 122.22008965, 130.56685455,\n",
       "       129.73262935, 128.72348597, 122.93773058, 120.65033891,\n",
       "       129.79650184, 127.95313326, 131.38447684, 130.03895233,\n",
       "       128.49159915, 127.77368891, 128.97411065, 128.18923517,\n",
       "       127.38192046, 127.04553933, 126.57460575, 126.03639595,\n",
       "       130.65762704, 125.5446339 , 127.17692993, 126.97510126,\n",
       "       126.84054881, 126.43689145, 124.93226132, 124.75734313,\n",
       "       120.22292553, 117.12821916, 122.72119954, 121.88697434,\n",
       "       115.09207557, 120.68747354, 119.67833016, 117.12183359,\n",
       "       120.15340634, 119.99867102, 119.07698673, 117.73146222,\n",
       "       122.28227764, 122.19481854, 121.77097832, 116.67602402])"
      ]
     },
     "execution_count": 27,
     "metadata": {},
     "output_type": "execute_result"
    }
   ],
   "source": [
    "af_regressor = Regression()\n",
    "af_data_process = DataProcessing()\n",
    "af_df_train, af_df_test = af_data_process.train_test_split(af_df)\n",
    "prediction = af_regressor.my_regression(af_df_train, af_df_test.iloc[:, 0:-1], 1)\n",
    "prediction.reshape(len(prediction), )\n"
   ]
  },
  {
   "cell_type": "markdown",
   "metadata": {},
   "source": [
    " Above we have the prediction values for the airfoil dataset using the selected model on the test set. Lets us see what are parameters used for the model using the model param variable of the regressor class object."
   ]
  },
  {
   "cell_type": "code",
   "execution_count": 9,
   "metadata": {},
   "outputs": [
    {
     "data": {
      "text/plain": [
       "[{'weights': array([[ -4.231425  ],\n",
       "         [ -2.48377623],\n",
       "         [ -3.4420274 ],\n",
       "         [  1.4367537 ],\n",
       "         [ -2.14370772],\n",
       "         [124.83194614]]),\n",
       "  'kernel': 'linear',\n",
       "  'lamda': 0,\n",
       "  'lmse': 23.73131914081521}]"
      ]
     },
     "execution_count": 9,
     "metadata": {},
     "output_type": "execute_result"
    }
   ],
   "source": [
    "af_regressor.model_param"
   ]
  },
  {
   "cell_type": "markdown",
   "metadata": {},
   "source": [
    "Thus we can see clearly that the best model for the airfoil dataset after 5 fold cross validation model selection has the following parameters and values\n",
    "\n",
    "Kernel : Linear Lamda value : 0.1 Least Mean Square Error value: ~23.67 Lets us the see how the best model is performing over the test data we set apart at first itself using least mean square value.\n"
   ]
  },
  {
   "cell_type": "code",
   "execution_count": 10,
   "metadata": {},
   "outputs": [
    {
     "name": "stdout",
     "output_type": "stream",
     "text": [
      "22.33\n"
     ]
    }
   ],
   "source": [
    "lmse = af_regressor.lmse(af_df_test.iloc[:, -1].values.reshape(len(af_df_test), 1), prediction)\n",
    "print(lmse)"
   ]
  },
  {
   "cell_type": "markdown",
   "metadata": {},
   "source": [
    "Thus we have Least Mean Square Error of 22.33 on the test set using Linear basis function itself and lamda as 0.1. It shows that the airfoil dataset have good result with the simple linear basis function itself instead of a complex Gaussian one. In addition, I have done small analysis over the cross validation data of this dataframe using some visualization to say why and how I selected linear to be my basis linear function and lamda value for the model. I have also created a plot function for reusing it for later times.\n"
   ]
  },
  {
   "cell_type": "markdown",
   "metadata": {},
   "source": [
    "## Yachat Hydro Dataset"
   ]
  },
  {
   "cell_type": "code",
   "execution_count": 11,
   "metadata": {},
   "outputs": [
    {
     "data": {
      "text/plain": [
       "array([-8.03388298e+00, -4.98197638e+00,  1.12183682e+00,  1.02775566e+01,\n",
       "        1.33294632e+01, -8.01210760e+00,  2.86107716e+01,  1.92540344e+01,\n",
       "        2.23059410e+01, -8.48793339e+00,  1.89792260e+01,  2.20311326e+01,\n",
       "        3.11868524e+01, -4.12571466e+00,  1.11338183e+01,  2.02895381e+01,\n",
       "        2.63933513e+01,  2.94452579e+01, -5.57093867e+00,  6.63668772e+00,\n",
       "        3.10519405e+01, -5.55399800e+00,  1.27574416e+01, -7.34286100e+00,\n",
       "       -1.23904780e+00,  1.81285880e+00,  7.91667199e+00,  1.40204852e+01,\n",
       "        2.01242984e+01,  3.23319248e+01,  5.56073525e-01,  2.49713263e+01,\n",
       "       -4.86829637e+00,  4.28742343e+00,  7.33933003e+00,  1.34431432e+01,\n",
       "       -9.17698823e+00, -2.12684411e-02,  6.08254475e+00,  9.13445135e+00,\n",
       "        2.13420777e+01,  2.74458909e+01, -4.32436723e+00, -1.27246063e+00,\n",
       "        1.77944596e+00,  4.83135256e+00,  7.88325916e+00,  1.39870724e+01,\n",
       "        1.70389790e+01,  2.31427921e+01,  2.61946987e+01, -6.76101801e+00,\n",
       "        5.44660838e+00,  8.49851498e+00,  1.23456013e+01,  1.84494145e+01,\n",
       "        2.15013211e+01,  2.45532277e+01, -9.74184482e+00, -5.86125028e-01,\n",
       "        2.46578157e+00,  8.56959477e+00, -6.22500240e+00,  2.93071740e+00,\n",
       "        1.20864372e+01,  2.42940636e+01,  2.73459702e+01,  1.08296519e+01,\n",
       "        1.38815585e+01,  2.30372783e+01,  2.91410915e+01,  3.21929981e+01,\n",
       "       -3.51825194e+00,  1.17412811e+01,  3.90206245e+00,  6.95396905e+00,\n",
       "        2.52654086e+01])"
      ]
     },
     "execution_count": 11,
     "metadata": {},
     "output_type": "execute_result"
    }
   ],
   "source": [
    "yh_regressor = Regression()\n",
    "yh_data_process = DataProcessing()\n",
    "yh_df_train, yh_df_test = yh_data_process.train_test_split(yh_df)\n",
    "prediction = yh_regressor.my_regression(yh_df_train, yh_df_test.iloc[:, 0:-1], 1)\n",
    "prediction.reshape(len(prediction))"
   ]
  },
  {
   "cell_type": "code",
   "execution_count": 12,
   "metadata": {},
   "outputs": [
    {
     "data": {
      "text/plain": [
       "[{'weights': array([[ 0.53919969],\n",
       "         [-0.65203131],\n",
       "         [ 0.41175342],\n",
       "         [-0.43613872],\n",
       "         [-0.63741705],\n",
       "         [12.38308025],\n",
       "         [10.93932745]]),\n",
       "  'kernel': 'linear',\n",
       "  'lamda': 10,\n",
       "  'lmse': 87.76826175034527}]"
      ]
     },
     "execution_count": 12,
     "metadata": {},
     "output_type": "execute_result"
    }
   ],
   "source": [
    "yh_regressor.model_param"
   ]
  },
  {
   "cell_type": "code",
   "execution_count": 13,
   "metadata": {},
   "outputs": [],
   "source": [
    "###"
   ]
  },
  {
   "cell_type": "code",
   "execution_count": 14,
   "metadata": {},
   "outputs": [
    {
     "name": "stdout",
     "output_type": "stream",
     "text": [
      "75.19\n"
     ]
    }
   ],
   "source": [
    "lmse = yh_regressor.lmse(yh_df_test.iloc[:, -1].values.reshape(len(yh_df_test), 1), prediction)\n",
    "print(round(lmse, 2))"
   ]
  },
  {
   "cell_type": "markdown",
   "metadata": {},
   "source": [
    "Thus we have Least Mean Square Error of 75.19 on the test set using Linear basis function itself and lamda as 10. It shows that the yachat dataset have good result with the simple linear basis function itself instead of a complex Gaussian one. In addition, I have done small analysis over the cross validation data of this dataframe using some visualization to say why and how I selected linear to be my basis linear function and lamda value for the model. I will be using the previously created custom plot function to do this."
   ]
  },
  {
   "cell_type": "markdown",
   "metadata": {},
   "source": [
    "## concrete_slump"
   ]
  },
  {
   "cell_type": "code",
   "execution_count": 15,
   "metadata": {},
   "outputs": [
    {
     "data": {
      "text/plain": [
       "array([[13.20889866, 40.66435472, 41.45456359],\n",
       "       [ 9.47096004, 30.39801963, 38.82278294],\n",
       "       [35.90407114, 92.67574759, 25.77788639],\n",
       "       [23.08920263, 57.39856208, 29.78983856],\n",
       "       [16.17209082, 40.38097973, 39.5151254 ],\n",
       "       [14.1384017 , 39.47591899, 36.3394246 ],\n",
       "       [27.44532621, 70.48655398, 31.91084903],\n",
       "       [16.70645528, 40.95980877, 21.17522814],\n",
       "       [14.61037272, 39.74694379, 37.32890853],\n",
       "       [20.94497294, 63.88409336, 44.68178247],\n",
       "       [20.76697332, 58.97714945, 42.21273902],\n",
       "       [17.77988686, 54.11335286, 38.11553212],\n",
       "       [25.48940005, 71.55320208, 30.44791719],\n",
       "       [24.2123993 , 60.17300309, 17.47401759],\n",
       "       [17.6839628 , 46.35670148, 34.46348152],\n",
       "       [22.31648068, 60.342233  , 31.31118292],\n",
       "       [21.77312   , 63.16181581, 47.6085848 ],\n",
       "       [23.45462446, 64.45497987, 42.56521531],\n",
       "       [20.63679435, 50.56253873, 36.84569467],\n",
       "       [23.91394104, 58.219242  , 31.8975568 ],\n",
       "       [20.05193642, 52.35241381, 34.99490765],\n",
       "       [23.11322887, 63.09309341, 33.20393836],\n",
       "       [12.72383242, 35.58734196, 40.26298451],\n",
       "       [19.06448524, 56.0295575 , 38.88439268],\n",
       "       [12.72214876, 39.58627358, 43.54838838],\n",
       "       [12.24299542, 36.63170824, 49.66047692]])"
      ]
     },
     "execution_count": 15,
     "metadata": {},
     "output_type": "execute_result"
    }
   ],
   "source": [
    "cs_regressor = Regression()\n",
    "cs_data_process = DataProcessing()\n",
    "cs_df_train, cs_df_test = cs_data_process.train_test_split(cs_df)\n",
    "prediction = cs_regressor.my_regression(cs_df_train, cs_df_test.iloc[:, 0:-3], 3)\n",
    "prediction"
   ]
  },
  {
   "cell_type": "code",
   "execution_count": null,
   "metadata": {},
   "outputs": [],
   "source": []
  },
  {
   "cell_type": "code",
   "execution_count": null,
   "metadata": {},
   "outputs": [],
   "source": []
  },
  {
   "cell_type": "code",
   "execution_count": null,
   "metadata": {},
   "outputs": [],
   "source": []
  },
  {
   "cell_type": "code",
   "execution_count": null,
   "metadata": {},
   "outputs": [],
   "source": []
  },
  {
   "cell_type": "code",
   "execution_count": null,
   "metadata": {},
   "outputs": [],
   "source": []
  },
  {
   "cell_type": "code",
   "execution_count": null,
   "metadata": {},
   "outputs": [],
   "source": []
  },
  {
   "cell_type": "code",
   "execution_count": null,
   "metadata": {},
   "outputs": [],
   "source": []
  },
  {
   "cell_type": "code",
   "execution_count": null,
   "metadata": {},
   "outputs": [],
   "source": []
  },
  {
   "cell_type": "code",
   "execution_count": null,
   "metadata": {},
   "outputs": [],
   "source": []
  },
  {
   "cell_type": "code",
   "execution_count": null,
   "metadata": {},
   "outputs": [],
   "source": []
  },
  {
   "cell_type": "markdown",
   "metadata": {},
   "source": [
    "## Question 2\n",
    "\n",
    "2) Test your regression on a simple one-dimensional data set, where your training data is generated by the following function:\n"
   ]
  },
  {
   "cell_type": "code",
   "execution_count": 16,
   "metadata": {},
   "outputs": [
    {
     "data": {
      "text/plain": [
       "100"
      ]
     },
     "execution_count": 16,
     "metadata": {},
     "output_type": "execute_result"
    }
   ],
   "source": [
    "x = np.arange(-5,5,0.1)\n",
    "len(x)"
   ]
  },
  {
   "cell_type": "code",
   "execution_count": 17,
   "metadata": {},
   "outputs": [
    {
     "data": {
      "image/png": "[encoded data removed]",
      "text/plain": [
       "<Figure size 864x576 with 1 Axes>"
      ]
     },
     "metadata": {
      "needs_background": "light"
     },
     "output_type": "display_data"
    }
   ],
   "source": [
    "x = np.arange(-5,5,0.1)\n",
    "y = (np.cos(x**2))+ 0.1*x**3\n",
    "plt.figure(figsize=(12,8))\n",
    "plt.plot(x,y,'o')\n",
    "plt.xlabel('x')\n",
    "plt.ylabel('y')\n",
    "plt.show()"
   ]
  },
  {
   "cell_type": "code",
   "execution_count": 18,
   "metadata": {},
   "outputs": [
    {
     "data": {
      "image/png": "[encoded data removed]",
      "text/plain": [
       "<Figure size 864x576 with 1 Axes>"
      ]
     },
     "metadata": {
      "needs_background": "light"
     },
     "output_type": "display_data"
    }
   ],
   "source": [
    "plt.figure(figsize=(12,8))\n",
    "plt.plot(x,y,'o')\n",
    "plt.xlabel('x')\n",
    "plt.ylabel('y')\n",
    "plt.show()"
   ]
  },
  {
   "cell_type": "code",
   "execution_count": 19,
   "metadata": {},
   "outputs": [],
   "source": [
    "\n",
    "d = {'X': x, 'Y': y}\n",
    "\n",
    "df = pd.DataFrame(d, columns = ['X', 'Y'])"
   ]
  },
  {
   "cell_type": "code",
   "execution_count": 20,
   "metadata": {},
   "outputs": [
    {
     "data": {
      "text/html": [
       "<div>\n",
       "<style scoped>\n",
       "    .dataframe tbody tr th:only-of-type {\n",
       "        vertical-align: middle;\n",
       "    }\n",
       "\n",
       "    .dataframe tbody tr th {\n",
       "        vertical-align: top;\n",
       "    }\n",
       "\n",
       "    .dataframe thead th {\n",
       "        text-align: right;\n",
       "    }\n",
       "</style>\n",
       "<table border=\"1\" class=\"dataframe\">\n",
       "  <thead>\n",
       "    <tr style=\"text-align: right;\">\n",
       "      <th></th>\n",
       "      <th>X</th>\n",
       "      <th>Y</th>\n",
       "    </tr>\n",
       "  </thead>\n",
       "  <tbody>\n",
       "    <tr>\n",
       "      <th>0</th>\n",
       "      <td>-5.0</td>\n",
       "      <td>-11.508797</td>\n",
       "    </tr>\n",
       "    <tr>\n",
       "      <th>1</th>\n",
       "      <td>-4.9</td>\n",
       "      <td>-11.331687</td>\n",
       "    </tr>\n",
       "    <tr>\n",
       "      <th>2</th>\n",
       "      <td>-4.8</td>\n",
       "      <td>-11.557767</td>\n",
       "    </tr>\n",
       "    <tr>\n",
       "      <th>3</th>\n",
       "      <td>-4.7</td>\n",
       "      <td>-11.377418</td>\n",
       "    </tr>\n",
       "    <tr>\n",
       "      <th>4</th>\n",
       "      <td>-4.6</td>\n",
       "      <td>-10.407628</td>\n",
       "    </tr>\n",
       "  </tbody>\n",
       "</table>\n",
       "</div>"
      ],
      "text/plain": [
       "     X          Y\n",
       "0 -5.0 -11.508797\n",
       "1 -4.9 -11.331687\n",
       "2 -4.8 -11.557767\n",
       "3 -4.7 -11.377418\n",
       "4 -4.6 -10.407628"
      ]
     },
     "execution_count": 20,
     "metadata": {},
     "output_type": "execute_result"
    }
   ],
   "source": [
    "df.head()"
   ]
  },
  {
   "cell_type": "code",
   "execution_count": 21,
   "metadata": {},
   "outputs": [
    {
     "data": {
      "text/plain": [
       "array([[-7.79851451e+00],\n",
       "       [-7.62700543e+00],\n",
       "       [-7.45413979e+00],\n",
       "       [-7.28005141e+00],\n",
       "       [-7.10487209e+00],\n",
       "       [-6.92873137e+00],\n",
       "       [-6.75175628e+00],\n",
       "       [-6.57407115e+00],\n",
       "       [-6.39579738e+00],\n",
       "       [-6.21705329e+00],\n",
       "       [-6.03795386e+00],\n",
       "       [-5.85861063e+00],\n",
       "       [-5.67913152e+00],\n",
       "       [-5.49962067e+00],\n",
       "       [-5.32017832e+00],\n",
       "       [-5.14090069e+00],\n",
       "       [-4.96187991e+00],\n",
       "       [-4.78320388e+00],\n",
       "       [-4.60495623e+00],\n",
       "       [-4.42721627e+00],\n",
       "       [-4.25005891e+00],\n",
       "       [-4.07355470e+00],\n",
       "       [-3.89776972e+00],\n",
       "       [-3.72276568e+00],\n",
       "       [-3.54859989e+00],\n",
       "       [-3.37532527e+00],\n",
       "       [-3.20299046e+00],\n",
       "       [-3.03163982e+00],\n",
       "       [-2.86131354e+00],\n",
       "       [-2.69204769e+00],\n",
       "       [-2.52387438e+00],\n",
       "       [-2.35682182e+00],\n",
       "       [-2.19091444e+00],\n",
       "       [-2.02617307e+00],\n",
       "       [-1.86261507e+00],\n",
       "       [-1.70025443e+00],\n",
       "       [-1.53910203e+00],\n",
       "       [-1.37916572e+00],\n",
       "       [-1.22045059e+00],\n",
       "       [-1.06295907e+00],\n",
       "       [-9.06691197e-01],\n",
       "       [-7.51644763e-01],\n",
       "       [-5.97815554e-01],\n",
       "       [-4.45197538e-01],\n",
       "       [-2.93783089e-01],\n",
       "       [-1.43563189e-01],\n",
       "       [ 5.47234733e-03],\n",
       "       [ 1.53334665e-01],\n",
       "       [ 3.00035649e-01],\n",
       "       [ 4.45587713e-01],\n",
       "       [ 5.90003587e-01],\n",
       "       [ 7.33296110e-01],\n",
       "       [ 8.75478022e-01],\n",
       "       [ 1.01656177e+00],\n",
       "       [ 1.15655929e+00],\n",
       "       [ 1.29548186e+00],\n",
       "       [ 1.43333987e+00],\n",
       "       [ 1.57014267e+00],\n",
       "       [ 1.70589842e+00],\n",
       "       [ 1.84061387e+00],\n",
       "       [ 1.97429428e+00],\n",
       "       [ 2.10694323e+00],\n",
       "       [ 2.23856250e+00],\n",
       "       [ 2.36915197e+00],\n",
       "       [ 2.49870947e+00],\n",
       "       [ 2.62723073e+00],\n",
       "       [ 2.75470924e+00],\n",
       "       [ 2.88113621e+00],\n",
       "       [ 3.00650049e+00],\n",
       "       [ 3.13078852e+00],\n",
       "       [ 3.25398430e+00],\n",
       "       [ 3.37606936e+00],\n",
       "       [ 3.49702271e+00],\n",
       "       [ 3.61682088e+00],\n",
       "       [ 3.73543792e+00],\n",
       "       [ 3.85284541e+00],\n",
       "       [ 3.96901248e+00],\n",
       "       [ 4.08390589e+00],\n",
       "       [ 4.19749005e+00],\n",
       "       [ 4.30972711e+00],\n",
       "       [ 4.42057702e+00],\n",
       "       [ 4.52999762e+00],\n",
       "       [ 4.63794477e+00],\n",
       "       [ 4.74437240e+00],\n",
       "       [ 4.84923267e+00],\n",
       "       [ 4.95247608e+00],\n",
       "       [ 5.05405159e+00],\n",
       "       [ 5.15390680e+00],\n",
       "       [ 5.25198804e+00],\n",
       "       [ 5.34824057e+00],\n",
       "       [ 5.44260871e+00],\n",
       "       [ 5.53503602e+00],\n",
       "       [ 5.62546548e+00],\n",
       "       [ 5.71383962e+00],\n",
       "       [ 5.80010074e+00],\n",
       "       [ 5.88419105e+00],\n",
       "       [ 5.96605288e+00],\n",
       "       [ 6.04562884e+00],\n",
       "       [ 6.12286202e+00],\n",
       "       [ 6.19769614e+00]])"
      ]
     },
     "execution_count": 21,
     "metadata": {},
     "output_type": "execute_result"
    }
   ],
   "source": [
    "q2_regressor = Regression()\n",
    "q2_data_process = DataProcessing()\n",
    "q2_df_train, q2_df_test = q2_data_process.train_test_split(df)\n",
    "pprediction = q2_regressor.my_regression(q2_df_train, df.iloc[:, 0:-1], 1)\n",
    "pprediction"
   ]
  },
  {
   "cell_type": "code",
   "execution_count": 22,
   "metadata": {},
   "outputs": [
    {
     "data": {
      "text/plain": [
       "[<matplotlib.lines.Line2D at 0x7f7db09cc860>]"
      ]
     },
     "execution_count": 22,
     "metadata": {},
     "output_type": "execute_result"
    },
    {
     "data": {
      "image/png": "[encoded data removed]",
      "text/plain": [
       "<Figure size 864x576 with 1 Axes>"
      ]
     },
     "metadata": {
      "needs_background": "light"
     },
     "output_type": "display_data"
    }
   ],
   "source": [
    "plt.figure(figsize=(12,8))\n",
    "plt.plot(x,y,'o')\n",
    "plt.plot(x, pprediction)"
   ]
  },
  {
   "cell_type": "code",
   "execution_count": 23,
   "metadata": {},
   "outputs": [],
   "source": [
    "def error(sig,x):\n",
    "    e= (1/(2*np.pi* sig**2))*np.exp((-1*x**2)/(2*sig**2))\n",
    "    return e"
   ]
  },
  {
   "cell_type": "code",
   "execution_count": 29,
   "metadata": {},
   "outputs": [],
   "source": [
    "def newError(sig, x):\n",
    "    ee= np.random.normal(0, sig, len(x))\n",
    "    return ee\n",
    "                     "
   ]
  },
  {
   "cell_type": "code",
   "execution_count": 30,
   "metadata": {},
   "outputs": [],
   "source": [
    "ee1= newError(0.1, x)\n",
    "ee2=  newError(0.2, x)\n",
    "ee3=  newError(0.5, x)\n",
    "ee4=  newError(1, x)\n"
   ]
  },
  {
   "cell_type": "code",
   "execution_count": 31,
   "metadata": {},
   "outputs": [],
   "source": [
    "e1= error(0.1, x)\n",
    "e2= error(0.2, x)\n",
    "e3= error(0.5, x)\n",
    "e4= error(1, x)\n"
   ]
  },
  {
   "cell_type": "code",
   "execution_count": 33,
   "metadata": {},
   "outputs": [
    {
     "data": {
      "text/plain": [
       "<matplotlib.legend.Legend at 0x7f7da2f92cc0>"
      ]
     },
     "execution_count": 33,
     "metadata": {},
     "output_type": "execute_result"
    },
    {
     "data": {
      "image/png": "[encoded data removed]",
      "text/plain": [
       "<Figure size 864x576 with 1 Axes>"
      ]
     },
     "metadata": {
      "needs_background": "light"
     },
     "output_type": "display_data"
    }
   ],
   "source": [
    "plt.figure(figsize=(12,8))\n",
    "plt.plot(x,y+ee1,label= 'sig=0.1')\n",
    "plt.plot(x,y+ee2, )\n",
    "plt.plot(x,y+ee3)\n",
    "plt.plot(x,y+ee4)\n",
    "plt.legend()"
   ]
  },
  {
   "cell_type": "code",
   "execution_count": 26,
   "metadata": {},
   "outputs": [
    {
     "data": {
      "text/plain": [
       "[{'weights': array([[ 155.71416495],\n",
       "         [-225.5312744 ],\n",
       "         [ -30.76391661],\n",
       "         [ 200.99602966],\n",
       "         [ 235.0632475 ],\n",
       "         [  57.02515738],\n",
       "         [-229.12161489],\n",
       "         [-143.47945192],\n",
       "         [  74.34127888],\n",
       "         [ -95.2348394 ]]),\n",
       "  'kernel': 'gaussian',\n",
       "  'lamda': 0.0001,\n",
       "  'lmse': 0.5652135302104135}]"
      ]
     },
     "execution_count": 26,
     "metadata": {},
     "output_type": "execute_result"
    }
   ],
   "source": [
    "q2_regressor.model_param"
   ]
  },
  {
   "cell_type": "code",
   "execution_count": null,
   "metadata": {},
   "outputs": [],
   "source": []
  }
 ],
 "metadata": {
  "kernelspec": {
   "display_name": "Python 3",
   "language": "python",
   "name": "python3"
  },
  "language_info": {
   "codemirror_mode": {
    "name": "ipython",
    "version": 3
   },
   "file_extension": ".py",
   "mimetype": "text/x-python",
   "name": "python",
   "nbconvert_exporter": "python",
   "pygments_lexer": "ipython3",
   "version": "3.7.3"
  }
 },
 "nbformat": 4,
 "nbformat_minor": 2
}
